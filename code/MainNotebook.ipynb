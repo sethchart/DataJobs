{
 "cells": [
  {
   "cell_type": "markdown",
   "metadata": {},
   "source": [
    "# Data Science Job Dashboard"
   ]
  },
  {
   "cell_type": "markdown",
   "metadata": {},
   "source": [
    "## Contact Information\n",
    "Seth Chart, PhD\n",
    "\n",
    "Data Scientist & Mathematician\n",
    "\n",
    "Seeking opportunities in Data Science\n",
    " * Email: [seth.chart@protonmail.com](mailto:seth.chart@protonmail.com)\n",
    " * Phone: [443.303.7114](tel:4433037114)\n",
    " * [Resume](https://sethchart.com/resume-sethchart.pdf)\n",
    " * [GitHub](https://github.com/sethchart)\n",
    " * [LinkedIn](https://www.linkedin.com/in/sethchart)\n",
    " * [Website](https://sethchart.com)\n",
    " * [Twitter](https://www.linkedin.com/in/sethchart)\n",
    "\n"
   ]
  },
  {
   "cell_type": "markdown",
   "metadata": {},
   "source": [
    "## Business Understanding\n",
    "\n",
    "The job market for the data industry can be difficult to navigate because there are a plethora of job titles and the relationship between titles and roles is often not well defined.\n",
    "Two identical roles may have completely different titles.\n",
    "Two substantially different roles may have the same title.\n",
    "This limits the usability of job titles as a means to succinctly communicate about data industry jobs.\n",
    "This project will address the issue by directly analyzing full job descriptions from a corpus of job postings to provide three main deliverables:\n",
    "\n",
    "### Objectives\n",
    "\n",
    " * First, from the language used in job descriptions (without titles), identify clusters of similar jobs based on their roles and responsibilities.\n",
    " * Second, a tool for classifying a provided job description according to our scheme.\n",
    " * Third, a comparison between our classification scheme and existing job titles ability to distinguish between roles.\n",
    "\n",
    "### Available Resources\n",
    "\n",
    "Recently two of the most recognizable job posting sites, LinkedIn and Indeed, have closed their job posting APIs and taken steps to discourage web scraping. This means that our preferred data sources were not available. \n",
    "\n",
    "We found that [careerjet.com](http://careerjet.com) has an public API and a fairly simple page structure for job posting. The official API [page](https://www.careerjet.com/partners/api/) for careerjet provides a python API package. Unfortunately, the official python package is not functional. There is an unofficial fork of the package that is functional that can be found [here](https://github.com/davebulaval/careerjet-api). \n",
    "\n",
    "The careerjet API is designed as a method for serving ads and tracks visits to careerjet job postings. For this reason, there are fairly restrictive rate limits for retrieving postings through the API. These limitations are not clearly documented, but they rendered the API unusable for large scale data collection.\n",
    "\n",
    "After discovering that the careerjet API would not be usable for data collection we investigated the possibility of scraping job postings by exploiting the page number url parameter to iterate over search result pages, scrape posting results from each result listing, then scrape each result url. However, after experimentation we discovered that \n",
    "### Data Mining Goals\n",
    "\n",
    "### Project Plan"
   ]
  },
  {
   "cell_type": "markdown",
   "metadata": {},
   "source": [
    "## Data Understanding\n",
    "\n",
    "In order to produce our deliverables, we will needed a sizable corpus of data industry job descriptions.\n",
    "We were able to obtain a corpus of approximately 9,485 job descriptions paired with their assigned job titles.\n",
    "The descriptions from this corpus will serve as our data for deliverables one and two.\n",
    "We will use the job titles from this corpus as data for deliverable three.\n",
    "\n",
    "### Data Collection\n",
    "\n",
    "### Data Description\n",
    "\n",
    "### Data Exploration\n",
    "\n",
    "### Data Validation\n"
   ]
  },
  {
   "cell_type": "markdown",
   "metadata": {},
   "source": [
    "## Data Preparation\n",
    "\n",
    "### Data Selection\n",
    "\n",
    "### Data Cleaning\n",
    "\n",
    "### Feature Engineering\n",
    "\n",
    "### Data Storage"
   ]
  },
  {
   "cell_type": "markdown",
   "metadata": {},
   "source": [
    "## Modeling\n",
    "\n",
    "### Architecture\n",
    "\n",
    "### Testing Plan\n",
    "\n",
    "### Build\n",
    "\n",
    "### Assessment"
   ]
  },
  {
   "cell_type": "markdown",
   "metadata": {},
   "source": [
    "## Evaluation\n",
    "\n",
    "### Results\n",
    "\n",
    "### Review \n",
    "\n",
    "### Conclusion"
   ]
  },
  {
   "cell_type": "markdown",
   "metadata": {},
   "source": [
    "## Deployment\n",
    "\n",
    "### Deployment Plan\n",
    "\n",
    "### Monitoring and Maintenance\n",
    "\n",
    "### Report\n",
    "\n",
    "### Project Review"
   ]
  },
  {
   "cell_type": "code",
   "execution_count": null,
   "metadata": {},
   "outputs": [],
   "source": []
  }
 ],
 "metadata": {
  "kernelspec": {
   "display_name": "JobDash",
   "language": "python",
   "name": "jobdash"
  },
  "language_info": {
   "codemirror_mode": {
    "name": "ipython",
    "version": 3
   },
   "file_extension": ".py",
   "mimetype": "text/x-python",
   "name": "python",
   "nbconvert_exporter": "python",
   "pygments_lexer": "ipython3",
   "version": "3.6.12"
  }
 },
 "nbformat": 4,
 "nbformat_minor": 4
}
