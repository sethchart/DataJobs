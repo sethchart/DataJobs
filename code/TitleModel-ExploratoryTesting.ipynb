{
 "cells": [
  {
   "cell_type": "code",
   "execution_count": 56,
   "metadata": {},
   "outputs": [],
   "source": [
    "import numpy as np\n",
    "# Loading pickled objects\n",
    "import pickle\n",
    "\n",
    "# Latent Dirchlet Model\n",
    "from gensim.models import LdaModel\n",
    "\n",
    "# Build corpus\n",
    "from gensim import corpora\n",
    "\n",
    "from sklearn.feature_extraction.text import CountVectorizer\n",
    "\n",
    "from sklearn.mixture import LogisticRegression\n",
    "from sklearn.model_selection import train_test_split"
   ]
  },
  {
   "cell_type": "markdown",
   "metadata": {},
   "source": [
    "## Load Processed Data"
   ]
  },
  {
   "cell_type": "code",
   "execution_count": 2,
   "metadata": {},
   "outputs": [],
   "source": [
    "with open('../data/processed_data.pkl', mode='rb') as file:\n",
    "    processed_data = pickle.load(file)"
   ]
  },
  {
   "cell_type": "markdown",
   "metadata": {},
   "source": [
    "## Load Title Tokens"
   ]
  },
  {
   "cell_type": "code",
   "execution_count": 26,
   "metadata": {},
   "outputs": [
    {
     "data": {
      "text/plain": [
       "'railcar team entry'"
      ]
     },
     "execution_count": 26,
     "metadata": {},
     "output_type": "execute_result"
    }
   ],
   "source": [
    "titles = [' '.join(record['title_tokens']) for record in processed_data]\n",
    "titles[0]"
   ]
  },
  {
   "cell_type": "markdown",
   "metadata": {},
   "source": [
    "## Make Title Bag of Words"
   ]
  },
  {
   "cell_type": "code",
   "execution_count": 41,
   "metadata": {},
   "outputs": [
    {
     "data": {
      "text/plain": [
       "(9485, 2520)"
      ]
     },
     "execution_count": 41,
     "metadata": {},
     "output_type": "execute_result"
    }
   ],
   "source": [
    "vectorizer = CountVectorizer()\n",
    "X = vectorizer.fit_transform(titles)\n",
    "X.shape"
   ]
  },
  {
   "cell_type": "markdown",
   "metadata": {},
   "source": [
    "## Load Description Tokens"
   ]
  },
  {
   "cell_type": "code",
   "execution_count": 5,
   "metadata": {},
   "outputs": [
    {
     "data": {
      "text/plain": [
       "['company_overview',\n",
       " 'come_join_win',\n",
       " 'team',\n",
       " 'since',\n",
       " 'plastic_express',\n",
       " 'lead',\n",
       " 'bulk',\n",
       " 'trucking',\n",
       " 'bulk',\n",
       " 'terminal',\n",
       " 'packaging',\n",
       " 'warehouse',\n",
       " 'need',\n",
       " 'plastic',\n",
       " 'industry',\n",
       " 'strategic',\n",
       " 'location',\n",
       " 'modern',\n",
       " 'system',\n",
       " 'dedicate',\n",
       " 'employee',\n",
       " 'allow_us',\n",
       " 'provide',\n",
       " 'custom',\n",
       " 'tailored',\n",
       " 'logistical',\n",
       " 'solution',\n",
       " 'fulfill',\n",
       " 'challenging',\n",
       " 'need',\n",
       " 'customer',\n",
       " 'plastic_express',\n",
       " 'operate',\n",
       " 'warehouse',\n",
       " 'location',\n",
       " 'rail',\n",
       " 'terminal',\n",
       " 'across',\n",
       " 'us',\n",
       " 'many',\n",
       " 'plastic_express',\n",
       " 'site',\n",
       " 'also',\n",
       " 'handle',\n",
       " 'commodity',\n",
       " 'include',\n",
       " 'paper',\n",
       " 'roll',\n",
       " 'steel',\n",
       " 'building',\n",
       " 'material',\n",
       " 'dry',\n",
       " 'bulk',\n",
       " 'material',\n",
       " 'plastic_express',\n",
       " 'operate',\n",
       " 'roughly',\n",
       " 'truck',\n",
       " 'approximately',\n",
       " 'trailer',\n",
       " 'perform',\n",
       " 'full',\n",
       " 'bulk',\n",
       " 'truck',\n",
       " 'distribution',\n",
       " 'business',\n",
       " 'plastic_express',\n",
       " 'headquarter',\n",
       " 'city',\n",
       " 'industry',\n",
       " 'ca',\n",
       " 'employee',\n",
       " 'nationwide',\n",
       " 'goal',\n",
       " 'always',\n",
       " 'exceed',\n",
       " 'customer',\n",
       " 'expectation',\n",
       " 'attitude',\n",
       " 'differentiate_us',\n",
       " 'competition',\n",
       " 'position',\n",
       " 'hour',\n",
       " 'work',\n",
       " 'full_time',\n",
       " 'position',\n",
       " 'must_able',\n",
       " 'work',\n",
       " 'long_hour',\n",
       " 'fill',\n",
       " 'sub',\n",
       " 'employee',\n",
       " 'weekend_holiday',\n",
       " 'need',\n",
       " 'qualification',\n",
       " 'least_year',\n",
       " 'old_must',\n",
       " 'read_write_speak',\n",
       " 'english_fluently',\n",
       " 'must',\n",
       " 'basic_computer',\n",
       " 'skill',\n",
       " 'successfully_pass',\n",
       " 'physical_exam',\n",
       " 'assure',\n",
       " 'agility',\n",
       " 'must_able',\n",
       " 'comfortable',\n",
       " 'work_outside_weather',\n",
       " 'condition',\n",
       " 'must_able',\n",
       " 'walk',\n",
       " 'bend_reach',\n",
       " 'push_pull',\n",
       " 'stoop',\n",
       " 'squat',\n",
       " 'climb',\n",
       " 'may',\n",
       " 'require',\n",
       " 'provide',\n",
       " 'personal_vehicle',\n",
       " 'job_summary',\n",
       " 'operate',\n",
       " 'safety',\n",
       " 'mind',\n",
       " 'time',\n",
       " 'verify',\n",
       " 'railcar',\n",
       " 'connection',\n",
       " 'data',\n",
       " 'entry',\n",
       " 'duty',\n",
       " 'duty_include_limit',\n",
       " 'inspect',\n",
       " 'inbound',\n",
       " 'railcar',\n",
       " 'verify',\n",
       " 'physical',\n",
       " 'railcar',\n",
       " 'truck',\n",
       " 'enter',\n",
       " 'railyard',\n",
       " 'responsible',\n",
       " 'maintenance',\n",
       " 'company',\n",
       " 'truck',\n",
       " 'operate',\n",
       " 'compliance',\n",
       " 'company',\n",
       " 'rail',\n",
       " 'yard',\n",
       " 'fra',\n",
       " 'safety',\n",
       " 'regulation',\n",
       " 'must',\n",
       " 'follow_safety',\n",
       " 'rule',\n",
       " 'report',\n",
       " 'accident',\n",
       " 'incident',\n",
       " 'involve',\n",
       " 'company',\n",
       " 'customer',\n",
       " 'asset',\n",
       " 'perform',\n",
       " 'additional',\n",
       " 'rail',\n",
       " 'related',\n",
       " 'duty',\n",
       " 'require',\n",
       " 'duty_responsibility',\n",
       " 'may',\n",
       " 'add_delete',\n",
       " 'change',\n",
       " 'time',\n",
       " 'data',\n",
       " 'entry',\n",
       " 'daily',\n",
       " 'transload',\n",
       " 'paperwork',\n",
       " 'keep',\n",
       " 'office',\n",
       " 'clean',\n",
       " 'help',\n",
       " 'area',\n",
       " 'office',\n",
       " 'need',\n",
       " 'power_jazzhr_jazz']"
      ]
     },
     "execution_count": 5,
     "metadata": {},
     "output_type": "execute_result"
    }
   ],
   "source": [
    "description_tokens =[record['description_tokens'] for record in processed_data]\n",
    "description_tokens[0]"
   ]
  },
  {
   "cell_type": "markdown",
   "metadata": {},
   "source": [
    "## Make Description Bag of Words"
   ]
  },
  {
   "cell_type": "code",
   "execution_count": 6,
   "metadata": {},
   "outputs": [
    {
     "data": {
      "text/plain": [
       "[(0, 1),\n",
       " (1, 1),\n",
       " (2, 1),\n",
       " (3, 1),\n",
       " (4, 1),\n",
       " (5, 1),\n",
       " (6, 1),\n",
       " (7, 1),\n",
       " (8, 1),\n",
       " (9, 1),\n",
       " (10, 1),\n",
       " (11, 1),\n",
       " (12, 1),\n",
       " (13, 1),\n",
       " (14, 1),\n",
       " (15, 1),\n",
       " (16, 4),\n",
       " (17, 1),\n",
       " (18, 1),\n",
       " (19, 1),\n",
       " (20, 1),\n",
       " (21, 1),\n",
       " (22, 1),\n",
       " (23, 1),\n",
       " (24, 1),\n",
       " (25, 3),\n",
       " (26, 1),\n",
       " (27, 1),\n",
       " (28, 1),\n",
       " (29, 1),\n",
       " (30, 1),\n",
       " (31, 1),\n",
       " (32, 3),\n",
       " (33, 1),\n",
       " (34, 1),\n",
       " (35, 1),\n",
       " (36, 1),\n",
       " (37, 1),\n",
       " (38, 2),\n",
       " (39, 1),\n",
       " (40, 1),\n",
       " (41, 3),\n",
       " (42, 1),\n",
       " (43, 2),\n",
       " (44, 1),\n",
       " (45, 1),\n",
       " (46, 1),\n",
       " (47, 1),\n",
       " (48, 1),\n",
       " (49, 1),\n",
       " (50, 1),\n",
       " (51, 1),\n",
       " (52, 1),\n",
       " (53, 1),\n",
       " (54, 1),\n",
       " (55, 1),\n",
       " (56, 1),\n",
       " (57, 1),\n",
       " (58, 2),\n",
       " (59, 1),\n",
       " (60, 1),\n",
       " (61, 1),\n",
       " (62, 1),\n",
       " (63, 1),\n",
       " (64, 1),\n",
       " (65, 2),\n",
       " (66, 1),\n",
       " (67, 1),\n",
       " (68, 1),\n",
       " (69, 1),\n",
       " (70, 2),\n",
       " (71, 2),\n",
       " (72, 1),\n",
       " (73, 1),\n",
       " (74, 2),\n",
       " (75, 3),\n",
       " (76, 1),\n",
       " (77, 2),\n",
       " (78, 4),\n",
       " (79, 1),\n",
       " (80, 1),\n",
       " (81, 1),\n",
       " (82, 2),\n",
       " (83, 1),\n",
       " (84, 1),\n",
       " (85, 2),\n",
       " (86, 1),\n",
       " (87, 1),\n",
       " (88, 1),\n",
       " (89, 3),\n",
       " (90, 1),\n",
       " (91, 1),\n",
       " (92, 1),\n",
       " (93, 1),\n",
       " (94, 1),\n",
       " (95, 1),\n",
       " (96, 1),\n",
       " (97, 1),\n",
       " (98, 2),\n",
       " (99, 1),\n",
       " (100, 1),\n",
       " (101, 1),\n",
       " (102, 1),\n",
       " (103, 1),\n",
       " (104, 1),\n",
       " (105, 1),\n",
       " (106, 1),\n",
       " (107, 1),\n",
       " (108, 2),\n",
       " (109, 2),\n",
       " (110, 1),\n",
       " (111, 4),\n",
       " (112, 1),\n",
       " (113, 1),\n",
       " (114, 2),\n",
       " (115, 1),\n",
       " (116, 2),\n",
       " (117, 1),\n",
       " (118, 1)]"
      ]
     },
     "execution_count": 6,
     "metadata": {},
     "output_type": "execute_result"
    }
   ],
   "source": [
    "dictionary = corpora.Dictionary(description_tokens)\n",
    "dictionary.filter_extremes(no_below=3)\n",
    "description_corpus = [dictionary.doc2bow(token) for token in description_tokens]\n",
    "description_corpus[0]"
   ]
  },
  {
   "cell_type": "markdown",
   "metadata": {},
   "source": [
    "## Load Best Model"
   ]
  },
  {
   "cell_type": "code",
   "execution_count": 7,
   "metadata": {},
   "outputs": [],
   "source": [
    "file_path = '../model/LDA-24topics'\n",
    "model = LdaModel.load(file_path)"
   ]
  },
  {
   "cell_type": "markdown",
   "metadata": {},
   "source": [
    "## Get Description Topic Distributions"
   ]
  },
  {
   "cell_type": "code",
   "execution_count": 39,
   "metadata": {},
   "outputs": [],
   "source": [
    "rows = []\n",
    "for description in description_corpus:\n",
    "    topics = model.get_document_topics(description)\n",
    "    vec = np.zeros(24)\n",
    "    for key, prob in topics:\n",
    "        vec[key] = prob\n",
    "    rows.append(vec)\n",
    "y = np.array(rows)"
   ]
  },
  {
   "cell_type": "code",
   "execution_count": 40,
   "metadata": {},
   "outputs": [
    {
     "data": {
      "text/plain": [
       "(9485, 24)"
      ]
     },
     "execution_count": 40,
     "metadata": {},
     "output_type": "execute_result"
    }
   ],
   "source": [
    "y.shape"
   ]
  },
  {
   "cell_type": "code",
   "execution_count": 45,
   "metadata": {},
   "outputs": [],
   "source": [
    "X_train , X_test, y_train, y_test = train_test_split(X, y, test_size=0.2)"
   ]
  },
  {
   "cell_type": "code",
   "execution_count": 57,
   "metadata": {},
   "outputs": [],
   "source": [
    "title_model = LogisticRegression()"
   ]
  },
  {
   "cell_type": "code",
   "execution_count": 60,
   "metadata": {},
   "outputs": [
    {
     "ename": "ValueError",
     "evalue": "Unknown label type: 'continuous'",
     "output_type": "error",
     "traceback": [
      "\u001b[0;31m---------------------------------------------------------------------------\u001b[0m",
      "\u001b[0;31mValueError\u001b[0m                                Traceback (most recent call last)",
      "\u001b[0;32m<ipython-input-60-8a7bec76c53d>\u001b[0m in \u001b[0;36m<module>\u001b[0;34m\u001b[0m\n\u001b[0;32m----> 1\u001b[0;31m \u001b[0mtitle_model\u001b[0m\u001b[0;34m.\u001b[0m\u001b[0mfit\u001b[0m\u001b[0;34m(\u001b[0m\u001b[0mX_train\u001b[0m\u001b[0;34m,\u001b[0m \u001b[0my_train\u001b[0m\u001b[0;34m[\u001b[0m\u001b[0;34m:\u001b[0m\u001b[0;34m,\u001b[0m\u001b[0;36m0\u001b[0m\u001b[0;34m]\u001b[0m\u001b[0;34m)\u001b[0m\u001b[0;34m\u001b[0m\u001b[0;34m\u001b[0m\u001b[0m\n\u001b[0m",
      "\u001b[0;32m~/anaconda3/envs/JobDash/lib/python3.6/site-packages/sklearn/linear_model/_logistic.py\u001b[0m in \u001b[0;36mfit\u001b[0;34m(self, X, y, sample_weight)\u001b[0m\n\u001b[1;32m   1343\u001b[0m                                    \u001b[0morder\u001b[0m\u001b[0;34m=\u001b[0m\u001b[0;34m\"C\"\u001b[0m\u001b[0;34m,\u001b[0m\u001b[0;34m\u001b[0m\u001b[0;34m\u001b[0m\u001b[0m\n\u001b[1;32m   1344\u001b[0m                                    accept_large_sparse=solver != 'liblinear')\n\u001b[0;32m-> 1345\u001b[0;31m         \u001b[0mcheck_classification_targets\u001b[0m\u001b[0;34m(\u001b[0m\u001b[0my\u001b[0m\u001b[0;34m)\u001b[0m\u001b[0;34m\u001b[0m\u001b[0;34m\u001b[0m\u001b[0m\n\u001b[0m\u001b[1;32m   1346\u001b[0m         \u001b[0mself\u001b[0m\u001b[0;34m.\u001b[0m\u001b[0mclasses_\u001b[0m \u001b[0;34m=\u001b[0m \u001b[0mnp\u001b[0m\u001b[0;34m.\u001b[0m\u001b[0munique\u001b[0m\u001b[0;34m(\u001b[0m\u001b[0my\u001b[0m\u001b[0;34m)\u001b[0m\u001b[0;34m\u001b[0m\u001b[0;34m\u001b[0m\u001b[0m\n\u001b[1;32m   1347\u001b[0m \u001b[0;34m\u001b[0m\u001b[0m\n",
      "\u001b[0;32m~/anaconda3/envs/JobDash/lib/python3.6/site-packages/sklearn/utils/multiclass.py\u001b[0m in \u001b[0;36mcheck_classification_targets\u001b[0;34m(y)\u001b[0m\n\u001b[1;32m    170\u001b[0m     if y_type not in ['binary', 'multiclass', 'multiclass-multioutput',\n\u001b[1;32m    171\u001b[0m                       'multilabel-indicator', 'multilabel-sequences']:\n\u001b[0;32m--> 172\u001b[0;31m         \u001b[0;32mraise\u001b[0m \u001b[0mValueError\u001b[0m\u001b[0;34m(\u001b[0m\u001b[0;34m\"Unknown label type: %r\"\u001b[0m \u001b[0;34m%\u001b[0m \u001b[0my_type\u001b[0m\u001b[0;34m)\u001b[0m\u001b[0;34m\u001b[0m\u001b[0;34m\u001b[0m\u001b[0m\n\u001b[0m\u001b[1;32m    173\u001b[0m \u001b[0;34m\u001b[0m\u001b[0m\n\u001b[1;32m    174\u001b[0m \u001b[0;34m\u001b[0m\u001b[0m\n",
      "\u001b[0;31mValueError\u001b[0m: Unknown label type: 'continuous'"
     ]
    }
   ],
   "source": [
    "title_model.fit(X_train, y_train[:,0])"
   ]
  },
  {
   "cell_type": "code",
   "execution_count": null,
   "metadata": {},
   "outputs": [],
   "source": []
  }
 ],
 "metadata": {
  "kernelspec": {
   "display_name": "JobDash",
   "language": "python",
   "name": "jobdash"
  },
  "language_info": {
   "codemirror_mode": {
    "name": "ipython",
    "version": 3
   },
   "file_extension": ".py",
   "mimetype": "text/x-python",
   "name": "python",
   "nbconvert_exporter": "python",
   "pygments_lexer": "ipython3",
   "version": "3.6.12"
  }
 },
 "nbformat": 4,
 "nbformat_minor": 4
}
