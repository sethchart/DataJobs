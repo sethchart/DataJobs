{
 "cells": [
  {
   "cell_type": "code",
   "execution_count": 1,
   "metadata": {},
   "outputs": [],
   "source": [
    "from importlib import reload\n",
    "import careerjet\n",
    "reload(careerjet)\n",
    "from careerjet import Scraper\n",
    "from JobsDb import JobsDb"
   ]
  },
  {
   "cell_type": "code",
   "execution_count": 11,
   "metadata": {},
   "outputs": [],
   "source": [
    "db = JobsDb()\n",
    "scraper = Scraper()"
   ]
  },
  {
   "cell_type": "code",
   "execution_count": 13,
   "metadata": {},
   "outputs": [
    {
     "name": "stdout",
     "output_type": "stream",
     "text": [
      "{'title': 'Shopper Team Member (Flexible Shifts) - Earn $15/hr or more', 'url': 'https://www.careerjet.com/jobad/us9a017af84d24ebc789b94b402608350d', 'description': '\\n  \\n    Hourly pay rate: $15.00 *The base pay for this role $15/hr Earn 1.5 times base wage on Sundays!  Shifts: Morning, Day, Evening, Weekend  Location: Framingham, MA Job opportunities vary by location. We update postings daily with open positions.  Hourly pay rate: Base pay rate is $15 per hour. Earn an extra $5 per hour on our Monday Shifts through 01/17/2021!  Immediate openings available now. Â Amazon remains open as an essential business to serve our communities delivering critical supplies directly to the doorsteps of people who need them.Â Find out what Amazon is doing to provide a safe environment for employees at this time on ourÂ .  Become part of the dedicated team that gets orders ready for people relying on Amazonâ€™s service.Â As a Whole Foods Shopper, youâ€™ll work inside a Whole Foods Market, getting customer grocery orders ready for delivery.  Here are some of the things youâ€™ll get to do:  Use smartphone, manage apps, and scan bar codes Shop the store for customers using their grocery lists Get grocery orders prepared for delivery Check for order quality Communicate with customers about their orders through the app  This roleÂ allows you to choose from available shifts each week to create your own schedule. Shifts can be on the weekend and during the week. Availability depends on business need.  Candidates must be 18 years or older with the ability to read and speak English for safety purposes.  Reasons youâ€™ll love working here: Health and safety are a top priority with all of our roles and sites. We continue to consult with medical and health experts, and take all recommended precautions in our buildings and stores to keep people healthy.  Earn more:Â You can expect a competitive wage and reliable pay check when you work for Amazon. Flexible hours:Â You can choose your shifts to create a schedule that works for you. Career development:Â Many of our entry-level employees become leaders in operations, HR, and other areas. See where your Amazon journey can take you.  Basic qualifications:  High school, GED, or equivalent diploma   Amazon is committed to a diverse and inclusive workplace. Amazon is an equal opportunity employer and does not discriminate on the basis of race, national origin, gender, gender identity, sexual orientation, protected veteran status, disability, age, or other legally protected status. For individuals with disabilities who would like to request an accommodation, please visitÂ . PandoLogic. Keywords: Store Shopper, Location: Hopkinton, MA - 01748\\n  \\n  \\n  \\n    Amazon\\n  \\n'}\n"
     ]
    }
   ],
   "source": [
    "print(scraper.scrape_page())\n",
    "scraper.next_page()"
   ]
  },
  {
   "cell_type": "code",
   "execution_count": 14,
   "metadata": {},
   "outputs": [],
   "source": [
    "scraper.browser.close()"
   ]
  },
  {
   "cell_type": "code",
   "execution_count": 29,
   "metadata": {},
   "outputs": [],
   "source": [
    "db = JobsDb()"
   ]
  },
  {
   "cell_type": "code",
   "execution_count": 30,
   "metadata": {},
   "outputs": [],
   "source": [
    "df = db.load_table_as_df('jobs')"
   ]
  },
  {
   "cell_type": "code",
   "execution_count": 31,
   "metadata": {},
   "outputs": [
    {
     "data": {
      "text/html": [
       "<div>\n",
       "<style scoped>\n",
       "    .dataframe tbody tr th:only-of-type {\n",
       "        vertical-align: middle;\n",
       "    }\n",
       "\n",
       "    .dataframe tbody tr th {\n",
       "        vertical-align: top;\n",
       "    }\n",
       "\n",
       "    .dataframe thead th {\n",
       "        text-align: right;\n",
       "    }\n",
       "</style>\n",
       "<table border=\"1\" class=\"dataframe\">\n",
       "  <thead>\n",
       "    <tr style=\"text-align: right;\">\n",
       "      <th></th>\n",
       "      <th>id</th>\n",
       "      <th>title</th>\n",
       "      <th>url</th>\n",
       "      <th>description</th>\n",
       "    </tr>\n",
       "  </thead>\n",
       "  <tbody>\n",
       "  </tbody>\n",
       "</table>\n",
       "</div>"
      ],
      "text/plain": [
       "Empty DataFrame\n",
       "Columns: [id, title, url, description]\n",
       "Index: []"
      ]
     },
     "execution_count": 31,
     "metadata": {},
     "output_type": "execute_result"
    }
   ],
   "source": [
    "df"
   ]
  },
  {
   "cell_type": "code",
   "execution_count": 25,
   "metadata": {},
   "outputs": [],
   "source": [
    "db.close()"
   ]
  },
  {
   "cell_type": "code",
   "execution_count": null,
   "metadata": {},
   "outputs": [],
   "source": []
  }
 ],
 "metadata": {
  "kernelspec": {
   "display_name": "JobDash",
   "language": "python",
   "name": "jobdash"
  },
  "language_info": {
   "codemirror_mode": {
    "name": "ipython",
    "version": 3
   },
   "file_extension": ".py",
   "mimetype": "text/x-python",
   "name": "python",
   "nbconvert_exporter": "python",
   "pygments_lexer": "ipython3",
   "version": "3.6.12"
  }
 },
 "nbformat": 4,
 "nbformat_minor": 4
}
