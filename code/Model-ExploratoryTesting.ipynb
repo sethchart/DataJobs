{
 "cells": [
  {
   "cell_type": "markdown",
   "metadata": {},
   "source": [
    "# Imports"
   ]
  },
  {
   "cell_type": "code",
   "execution_count": 1,
   "metadata": {},
   "outputs": [],
   "source": [
    "# Basics\n",
    "import pandas as pd\n",
    "import numpy as np\n",
    "np.random.seed(0)\n",
    "from matplotlib import pyplot as plt\n",
    "import seaborn as sns\n",
    "\n",
    "# Job database wrapper\n",
    "from JobsDb import JobsDb\n",
    "\n",
    "# Text preprocessing\n",
    "from keras.preprocessing import text, sequence\n",
    "\n",
    "# Clustering tools \n",
    "from sklearn.cluster import KMeans\n",
    "from sklearn.pipeline import Pipeline\n",
    "from sklearn.metrics import calinski_harabasz_score\n",
    "\n",
    "# Vectorizing Tools\n",
    "from gensim.test.utils import datapath, get_tmpfile\n",
    "from gensim.models import KeyedVectors\n",
    "from gensim.scripts.glove2word2vec import glove2word2vec\n",
    "\n",
    "# Classification Tools\n",
    "from keras.models import Sequential\n",
    "from keras.layers import Input, Dense, LSTM, Embedding, Dropout, GlobalMaxPool1D\n",
    "\n",
    "# Pipeline tools\n",
    "from sklearn.pipeline import Pipeline\n",
    "from sklearn.preprocessing import FunctionTransformer, LabelBinarizer, OneHotEncoder\n",
    "from keras.wrappers.scikit_learn import KerasClassifier\n",
    "\n",
    "# Model evaluation\n",
    "from sklearn.metrics import confusion_matrix"
   ]
  },
  {
   "cell_type": "markdown",
   "metadata": {},
   "source": [
    "# Load Data"
   ]
  },
  {
   "cell_type": "code",
   "execution_count": 2,
   "metadata": {},
   "outputs": [
    {
     "data": {
      "text/html": [
       "<div>\n",
       "<style scoped>\n",
       "    .dataframe tbody tr th:only-of-type {\n",
       "        vertical-align: middle;\n",
       "    }\n",
       "\n",
       "    .dataframe tbody tr th {\n",
       "        vertical-align: top;\n",
       "    }\n",
       "\n",
       "    .dataframe thead th {\n",
       "        text-align: right;\n",
       "    }\n",
       "</style>\n",
       "<table border=\"1\" class=\"dataframe\">\n",
       "  <thead>\n",
       "    <tr style=\"text-align: right;\">\n",
       "      <th></th>\n",
       "      <th>id</th>\n",
       "      <th>title</th>\n",
       "      <th>url</th>\n",
       "      <th>description</th>\n",
       "    </tr>\n",
       "  </thead>\n",
       "  <tbody>\n",
       "    <tr>\n",
       "      <th>0</th>\n",
       "      <td>1</td>\n",
       "      <td>Psychiatrist (Per Diem) - #201222-4667HD</td>\n",
       "      <td>https://www.careerjet.com/jobad/us61b2e1c18a4d...</td>\n",
       "      <td>\\n  \\n    shall strive to be a global leader i...</td>\n",
       "    </tr>\n",
       "    <tr>\n",
       "      <th>1</th>\n",
       "      <td>2</td>\n",
       "      <td>Professor of Osteopathic Manipulative Medicine</td>\n",
       "      <td>https://www.careerjet.com/jobad/us0f769e5a939c...</td>\n",
       "      <td>\\nPosition Details  Position Title Professor o...</td>\n",
       "    </tr>\n",
       "    <tr>\n",
       "      <th>2</th>\n",
       "      <td>3</td>\n",
       "      <td>Amazon Warehouse Assistant - Immediately Hiring</td>\n",
       "      <td>https://www.careerjet.com/jobad/usba95a3670331...</td>\n",
       "      <td>\\n  \\n    Hourly pay rate: $15.00 *The base pa...</td>\n",
       "    </tr>\n",
       "    <tr>\n",
       "      <th>3</th>\n",
       "      <td>4</td>\n",
       "      <td>Non-QM Underwriter</td>\n",
       "      <td>https://www.careerjet.com/jobad/usb59eda9438ed...</td>\n",
       "      <td>\\nJob Description  We looking to add an experi...</td>\n",
       "    </tr>\n",
       "    <tr>\n",
       "      <th>4</th>\n",
       "      <td>5</td>\n",
       "      <td>project manager, accounting systems</td>\n",
       "      <td>https://www.careerjet.com/jobad/us71cfd31d23d6...</td>\n",
       "      <td>\\njob description  job summary:  Project Manag...</td>\n",
       "    </tr>\n",
       "  </tbody>\n",
       "</table>\n",
       "</div>"
      ],
      "text/plain": [
       "   id                                            title  \\\n",
       "0   1         Psychiatrist (Per Diem) - #201222-4667HD   \n",
       "1   2   Professor of Osteopathic Manipulative Medicine   \n",
       "2   3  Amazon Warehouse Assistant - Immediately Hiring   \n",
       "3   4                               Non-QM Underwriter   \n",
       "4   5              project manager, accounting systems   \n",
       "\n",
       "                                                 url  \\\n",
       "0  https://www.careerjet.com/jobad/us61b2e1c18a4d...   \n",
       "1  https://www.careerjet.com/jobad/us0f769e5a939c...   \n",
       "2  https://www.careerjet.com/jobad/usba95a3670331...   \n",
       "3  https://www.careerjet.com/jobad/usb59eda9438ed...   \n",
       "4  https://www.careerjet.com/jobad/us71cfd31d23d6...   \n",
       "\n",
       "                                         description  \n",
       "0  \\n  \\n    shall strive to be a global leader i...  \n",
       "1  \\nPosition Details  Position Title Professor o...  \n",
       "2  \\n  \\n    Hourly pay rate: $15.00 *The base pa...  \n",
       "3  \\nJob Description  We looking to add an experi...  \n",
       "4  \\njob description  job summary:  Project Manag...  "
      ]
     },
     "execution_count": 2,
     "metadata": {},
     "output_type": "execute_result"
    }
   ],
   "source": [
    "def load_data():\n",
    "    db = JobsDb()\n",
    "    df = db.load_table_as_df('jobs')\n",
    "    db.close()\n",
    "    return df\n",
    "\n",
    "df = load_data()\n",
    "#df = df.iloc[9800:]\n",
    "df.head()"
   ]
  },
  {
   "cell_type": "markdown",
   "metadata": {},
   "source": [
    "# Cluster Analysis of Titles"
   ]
  },
  {
   "cell_type": "markdown",
   "metadata": {},
   "source": [
    "## Extract Titles and Descriptions "
   ]
  },
  {
   "cell_type": "code",
   "execution_count": 3,
   "metadata": {},
   "outputs": [],
   "source": [
    "def extract_data(df):\n",
    "    titles = df['title']\n",
    "    descriptions = df['description']\n",
    "    return titles, descriptions\n",
    "\n",
    "titles, descriptions = extract_data(df)"
   ]
  },
  {
   "cell_type": "markdown",
   "metadata": {},
   "source": [
    "## Compute Title Vocabulary"
   ]
  },
  {
   "cell_type": "code",
   "execution_count": 4,
   "metadata": {},
   "outputs": [],
   "source": [
    "def get_vocabulary(titles):\n",
    "    vocabulary = set(word for title in titles for word in title.split(' '))\n",
    "    return vocabulary\n",
    "\n",
    "title_vocabulary = get_vocabulary(titles)\n",
    "description_vocabulary = get_vocabulary(descriptions)"
   ]
  },
  {
   "cell_type": "markdown",
   "metadata": {},
   "source": [
    "## Vectorize Vocabulary"
   ]
  },
  {
   "cell_type": "code",
   "execution_count": 5,
   "metadata": {},
   "outputs": [],
   "source": [
    "def vectorize_vocabulary(vocabulary):\n",
    "    glove = {}\n",
    "    with open('../model/glove.6B.50d.txt', 'rb') as f:\n",
    "        for line in f:\n",
    "            parts = line.split()\n",
    "            word = parts[0].decode('utf-8')\n",
    "            if word in vocabulary:\n",
    "                vector = np.array(parts[1:], dtype=np.float32)\n",
    "                glove[word] = vector\n",
    "    return glove\n",
    "\n",
    "title_glove = vectorize_vocabulary(title_vocabulary)\n",
    "description_glove = vectorize_vocabulary(description_vocabulary)"
   ]
  },
  {
   "cell_type": "markdown",
   "metadata": {},
   "source": [
    "## Title Vectorizer Class"
   ]
  },
  {
   "cell_type": "code",
   "execution_count": 6,
   "metadata": {},
   "outputs": [],
   "source": [
    "class W2vVectorizer(object):\n",
    "    \n",
    "    def __init__(self, w2v):\n",
    "        # Takes in a dictionary of words and vectors as input\n",
    "        self.w2v = w2v\n",
    "        if len(w2v) == 0:\n",
    "            self.dimensions = 0\n",
    "        else:\n",
    "            self.dimensions = len(w2v[next(iter(w2v))])\n",
    "    \n",
    "    # Note: Even though it doesn't do anything, it's required that this object implement a fit method or else\n",
    "    # it can't be used in a scikit-learn pipeline  \n",
    "    def fit(self, X, y):\n",
    "        return self\n",
    "            \n",
    "    def transform(self, X):\n",
    "        return np.array([\n",
    "            np.mean([self.w2v[w] for w in words if w in self.w2v]\n",
    "                   or [np.zeros(self.dimensions)], axis=0) for words in X])\n",
    "    \n",
    "title_vectorizer = W2vVectorizer(title_glove)"
   ]
  },
  {
   "cell_type": "markdown",
   "metadata": {},
   "source": [
    "## Build Vector Clustering Pipeline"
   ]
  },
  {
   "cell_type": "code",
   "execution_count": 7,
   "metadata": {},
   "outputs": [],
   "source": [
    "cluster_pipe =  Pipeline([\n",
    "    ('Word2Vec_Vectorizer', title_vectorizer),\n",
    "    ('KMeans', KMeans(n_clusters=5))])"
   ]
  },
  {
   "cell_type": "markdown",
   "metadata": {},
   "source": [
    "## Fit Pipeline on Titles"
   ]
  },
  {
   "cell_type": "code",
   "execution_count": 8,
   "metadata": {},
   "outputs": [
    {
     "data": {
      "text/plain": [
       "Pipeline(steps=[('Word2Vec_Vectorizer',\n",
       "                 <__main__.W2vVectorizer object at 0x7f14a7c7ac50>),\n",
       "                ('KMeans', KMeans(n_clusters=5))])"
      ]
     },
     "execution_count": 8,
     "metadata": {},
     "output_type": "execute_result"
    }
   ],
   "source": [
    "cluster_pipe.fit(titles)"
   ]
  },
  {
   "cell_type": "markdown",
   "metadata": {},
   "source": [
    "## Build Target Classes"
   ]
  },
  {
   "cell_type": "code",
   "execution_count": 9,
   "metadata": {},
   "outputs": [],
   "source": [
    "target = cluster_pipe.predict(titles)"
   ]
  },
  {
   "cell_type": "markdown",
   "metadata": {},
   "source": [
    "# Class Distribution"
   ]
  },
  {
   "cell_type": "code",
   "execution_count": 11,
   "metadata": {},
   "outputs": [
    {
     "data": {
      "text/plain": [
       "<AxesSubplot:>"
      ]
     },
     "execution_count": 11,
     "metadata": {},
     "output_type": "execute_result"
    },
    {
     "data": {
      "image/png": "[encoded data removed]",
      "text/plain": [
       "<Figure size 432x288 with 1 Axes>"
      ]
     },
     "metadata": {
      "needs_background": "light"
     },
     "output_type": "display_data"
    }
   ],
   "source": [
    "classes, class_counts = np.unique(target, return_counts=True)\n",
    "sns.barplot(x=classes, y=class_counts)"
   ]
  },
  {
   "cell_type": "markdown",
   "metadata": {},
   "source": [
    "# Deep NLP Model to Classify Descriptions "
   ]
  },
  {
   "cell_type": "markdown",
   "metadata": {},
   "source": [
    "## Word Vectorizer for Descriptions"
   ]
  },
  {
   "cell_type": "code",
   "execution_count": 12,
   "metadata": {},
   "outputs": [],
   "source": [
    "model_folder = '/home/schart/Flatiron/DataScience/Phase5/Assessments/JobDash/model/'\n",
    "glove_file = datapath(model_folder +'glove.6B.50d.txt')\n",
    "tmp_file = get_tmpfile(model_folder+'glove_to_w2vec.txt')\n",
    "_ = glove2word2vec(glove_file, tmp_file)\n",
    "model_glove = KeyedVectors.load_word2vec_format(tmp_file)"
   ]
  },
  {
   "cell_type": "markdown",
   "metadata": {},
   "source": [
    "## Preprocessor for Descriptions "
   ]
  },
  {
   "cell_type": "code",
   "execution_count": 13,
   "metadata": {},
   "outputs": [],
   "source": [
    "def preprocess_descriptions(X):\n",
    "    tokenizer = text.Tokenizer(num_words=20000)\n",
    "    tokenizer.fit_on_texts(list(X))\n",
    "    list_tokenized_descriptions = tokenizer.texts_to_sequences(X)\n",
    "    X = sequence.pad_sequences(list_tokenized_descriptions, maxlen=500)\n",
    "    return X\n",
    "\n",
    "preprocessor = FunctionTransformer(preprocess_descriptions)"
   ]
  },
  {
   "cell_type": "markdown",
   "metadata": {},
   "source": [
    "## Build Classifier"
   ]
  },
  {
   "cell_type": "code",
   "execution_count": 15,
   "metadata": {},
   "outputs": [],
   "source": [
    "def build_classifier():\n",
    "    classifier = Sequential()\n",
    "    embedding_size = 128\n",
    "    #classifier.add(Embedding(20000, embedding_size))\n",
    "    classifier.add(model_glove.get_keras_embedding())\n",
    "    classifier.add(LSTM(50, return_sequences=False))\n",
    "    classifier.add(Dense(50, activation='relu'))\n",
    "    classifier.add(Dropout(0.5))\n",
    "    classifier.add(Dense(5, activation='softmax'))\n",
    "    classifier.compile(\n",
    "        loss='categorical_crossentropy', \n",
    "        optimizer='adam', \n",
    "        metrics=['accuracy']\n",
    "    )   \n",
    "    return classifier\n",
    "\n",
    "classifier = KerasClassifier(\n",
    "    build_fn=build_classifier, \n",
    "    epochs=3, \n",
    "    batch_size=32, \n",
    "    validation_split=0.1,\n",
    "    workers=4\n",
    ")"
   ]
  },
  {
   "cell_type": "markdown",
   "metadata": {},
   "source": [
    "## Build Classifier Pipeline"
   ]
  },
  {
   "cell_type": "code",
   "execution_count": 16,
   "metadata": {},
   "outputs": [],
   "source": [
    "classifier_pipe = Pipeline(\n",
    "    steps = [\n",
    "        ('preprocessor', preprocessor),\n",
    "        ('classifier', classifier)\n",
    "    ]\n",
    ")"
   ]
  },
  {
   "cell_type": "markdown",
   "metadata": {},
   "source": [
    "## Fit Classifier Pipeline"
   ]
  },
  {
   "cell_type": "code",
   "execution_count": 17,
   "metadata": {},
   "outputs": [
    {
     "name": "stdout",
     "output_type": "stream",
     "text": [
      "Epoch 1/3\n",
      "539/539 [==============================] - 288s 535ms/step - loss: 0.9859 - accuracy: 0.6074 - val_loss: 0.8082 - val_accuracy: 0.7152\n",
      "Epoch 2/3\n",
      "539/539 [==============================] - 287s 533ms/step - loss: 0.8363 - accuracy: 0.6698 - val_loss: 0.8088 - val_accuracy: 0.7355\n",
      "Epoch 3/3\n",
      "539/539 [==============================] - 283s 525ms/step - loss: 0.8073 - accuracy: 0.6821 - val_loss: 0.7759 - val_accuracy: 0.7376\n"
     ]
    },
    {
     "data": {
      "text/plain": [
       "Pipeline(steps=[('preprocessor',\n",
       "                 FunctionTransformer(func=<function preprocess_descriptions at 0x7f14aae1f510>)),\n",
       "                ('classifier',\n",
       "                 <tensorflow.python.keras.wrappers.scikit_learn.KerasClassifier object at 0x7f148c9d07f0>)])"
      ]
     },
     "execution_count": 17,
     "metadata": {},
     "output_type": "execute_result"
    }
   ],
   "source": [
    "classifier_pipe.fit(descriptions, target)"
   ]
  },
  {
   "cell_type": "markdown",
   "metadata": {},
   "source": [
    "# Make Predictions"
   ]
  },
  {
   "cell_type": "code",
   "execution_count": 18,
   "metadata": {},
   "outputs": [
    {
     "name": "stdout",
     "output_type": "stream",
     "text": [
      "WARNING:tensorflow:From /home/schart/anaconda3/envs/JobDash/lib/python3.6/site-packages/tensorflow/python/keras/wrappers/scikit_learn.py:241: Sequential.predict_classes (from tensorflow.python.keras.engine.sequential) is deprecated and will be removed after 2021-01-01.\n",
      "Instructions for updating:\n",
      "Please use instead:* `np.argmax(model.predict(x), axis=-1)`,   if your model does multi-class classification   (e.g. if it uses a `softmax` last-layer activation).* `(model.predict(x) > 0.5).astype(\"int32\")`,   if your model does binary classification   (e.g. if it uses a `sigmoid` last-layer activation).\n"
     ]
    }
   ],
   "source": [
    "pred = classifier_pipe.predict(descriptions)"
   ]
  },
  {
   "cell_type": "markdown",
   "metadata": {},
   "source": [
    "# Confusion Matrix"
   ]
  },
  {
   "cell_type": "code",
   "execution_count": 19,
   "metadata": {},
   "outputs": [],
   "source": [
    "confmat = confusion_matrix(target, pred)"
   ]
  },
  {
   "cell_type": "code",
   "execution_count": 20,
   "metadata": {},
   "outputs": [
    {
     "data": {
      "text/plain": [
       "<AxesSubplot:>"
      ]
     },
     "execution_count": 20,
     "metadata": {},
     "output_type": "execute_result"
    },
    {
     "data": {
      "image/png": "[encoded data removed]",
      "text/plain": [
       "<Figure size 432x288 with 2 Axes>"
      ]
     },
     "metadata": {
      "needs_background": "light"
     },
     "output_type": "display_data"
    }
   ],
   "source": [
    "sns.heatmap(confmat, cmap='Blues')"
   ]
  },
  {
   "cell_type": "code",
   "execution_count": null,
   "metadata": {},
   "outputs": [],
   "source": []
  }
 ],
 "metadata": {
  "kernelspec": {
   "display_name": "JobDash",
   "language": "python",
   "name": "jobdash"
  },
  "language_info": {
   "codemirror_mode": {
    "name": "ipython",
    "version": 3
   },
   "file_extension": ".py",
   "mimetype": "text/x-python",
   "name": "python",
   "nbconvert_exporter": "python",
   "pygments_lexer": "ipython3",
   "version": "3.6.12"
  }
 },
 "nbformat": 4,
 "nbformat_minor": 4
}
