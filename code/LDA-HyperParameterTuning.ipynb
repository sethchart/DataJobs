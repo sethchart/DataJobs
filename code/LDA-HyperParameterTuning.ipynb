{
 "cells": [
  {
   "cell_type": "markdown",
   "metadata": {},
   "source": [
    "# Following this resource\n",
    "https://www.kdnuggets.com/2019/09/overview-topics-extraction-python-latent-dirichlet-allocation.html\n",
    "\n",
    "https://github.com/FelixChop/MediumArticles/blob/master/LDA-BBC.ipynb"
   ]
  },
  {
   "cell_type": "markdown",
   "metadata": {},
   "source": [
    "# Initial Setup"
   ]
  },
  {
   "cell_type": "markdown",
   "metadata": {},
   "source": [
    "## Imports"
   ]
  },
  {
   "cell_type": "code",
   "execution_count": 59,
   "metadata": {},
   "outputs": [],
   "source": [
    "# Basics\n",
    "import pandas as pd\n",
    "import numpy as np\n",
    "\n",
    "# Progress\n",
    "from tqdm import tqdm\n",
    "\n",
    "# Set random seed\n",
    "np.random.seed(42)\n",
    "\n",
    "# Plotting\n",
    "import plotly.express as px\n",
    "\n",
    "# Latent Dirichlet Allocation\n",
    "from gensim.models import LdaModel, CoherenceModel\n",
    "\n",
    "# Saving Models\n",
    "from gensim.test.utils import datapath\n",
    "\n",
    "from itertools import combinations"
   ]
  },
  {
   "cell_type": "markdown",
   "metadata": {},
   "source": [
    "## Loading Models"
   ]
  },
  {
   "cell_type": "code",
   "execution_count": 26,
   "metadata": {},
   "outputs": [],
   "source": [
    "num_topics = 20\n",
    "def get_model(num_topics):\n",
    "    file_path = f'../model/LDA-{num_topics}topics'\n",
    "    lda_model = LdaModel.load(file_path)\n",
    "    return lda_model\n",
    "\n",
    "lda_model = get_model(20)"
   ]
  },
  {
   "cell_type": "code",
   "execution_count": 40,
   "metadata": {},
   "outputs": [
    {
     "data": {
      "text/plain": [
       "(0,\n",
       " [('aws', 0.02549657),\n",
       "  ('customer', 0.014029006),\n",
       "  ('knowledge', 0.01398717),\n",
       "  ('good', 0.011425586),\n",
       "  ('big', 0.010933044),\n",
       "  ('google_cloud_platform', 0.0104406485),\n",
       "  ('process', 0.009689362),\n",
       "  ('dice', 0.007920467),\n",
       "  ('client', 0.0077846665),\n",
       "  ('quality', 0.0077294945),\n",
       "  ('project', 0.0072583375),\n",
       "  ('must', 0.0072508124),\n",
       "  ('position', 0.0071388446),\n",
       "  ('engagement', 0.006872587),\n",
       "  ('complex', 0.006436063),\n",
       "  ('change', 0.006354013),\n",
       "  ('application', 0.006306876),\n",
       "  ('cloud', 0.006173741),\n",
       "  ('job', 0.0060890415),\n",
       "  ('apply', 0.005556921)])"
      ]
     },
     "execution_count": 40,
     "metadata": {},
     "output_type": "execute_result"
    }
   ],
   "source": [
    "def get_topics(lda_model):\n",
    "    topics = lda_model.show_topics(num_topics = -1, num_words=20, formatted=False)\n",
    "    return topics\n",
    "\n",
    "topics = get_topics(lda_model)\n",
    "topic = topics[0]\n",
    "topic"
   ]
  },
  {
   "cell_type": "markdown",
   "metadata": {},
   "source": [
    "## Jaccard Similarity"
   ]
  },
  {
   "cell_type": "code",
   "execution_count": 44,
   "metadata": {},
   "outputs": [],
   "source": [
    "def jaccard_similarity(set1, set2):\n",
    "    intersection = set1.intersection(set2)\n",
    "    union = set1.union(set2)\n",
    "    similarity = len(intersection)/len(union)\n",
    "    return similarity\n",
    "\n",
    "test_set1 = {1, 2, 3}\n",
    "test_set2 = {2, 3, 4}\n",
    "assert jaccard_similarity(test_set1, test_set2) == 1/2, \"Should return 1/2.\""
   ]
  },
  {
   "cell_type": "code",
   "execution_count": 45,
   "metadata": {},
   "outputs": [
    {
     "data": {
      "text/plain": [
       "{'application',\n",
       " 'apply',\n",
       " 'aws',\n",
       " 'big',\n",
       " 'change',\n",
       " 'client',\n",
       " 'cloud',\n",
       " 'complex',\n",
       " 'customer',\n",
       " 'dice',\n",
       " 'engagement',\n",
       " 'good',\n",
       " 'google_cloud_platform',\n",
       " 'job',\n",
       " 'knowledge',\n",
       " 'must',\n",
       " 'position',\n",
       " 'process',\n",
       " 'project',\n",
       " 'quality'}"
      ]
     },
     "execution_count": 45,
     "metadata": {},
     "output_type": "execute_result"
    }
   ],
   "source": [
    "def topic_word_set(topic):\n",
    "    word_tuple_list = topic[1]\n",
    "    word_set = {word_tuple[0] for word_tuple in word_tuple_list}\n",
    "    return word_set\n",
    "\n",
    "word_set = topic_word_set(topic)\n",
    "word_set    "
   ]
  },
  {
   "cell_type": "code",
   "execution_count": 54,
   "metadata": {},
   "outputs": [
    {
     "data": {
      "text/plain": [
       "0.12096222161701466"
      ]
     },
     "execution_count": 54,
     "metadata": {},
     "output_type": "execute_result"
    }
   ],
   "source": [
    "def mean_jaccard_similarity(topics):\n",
    "    N = len(topics)\n",
    "    similarity_list = []\n",
    "    combs = combinations(topics, 2)\n",
    "    for topic1, topic2 in combs:\n",
    "        set1 = topic_word_set(topic1)\n",
    "        set2 = topic_word_set(topic2)\n",
    "        similarity_list.append(jaccard_similarity(set1, set2))\n",
    "    mean_similarity = np.mean(similarity_list)\n",
    "    return mean_similarity\n",
    "\n",
    "mean_jaccard_similarity(topics)"
   ]
  },
  {
   "cell_type": "markdown",
   "metadata": {},
   "source": [
    "## Get Corpus"
   ]
  },
  {
   "cell_type": "code",
   "execution_count": 56,
   "metadata": {},
   "outputs": [],
   "source": [
    "with open('../data/processed_data.pkl', mode='rb') as file:\n",
    "    data_records = pickle.load(file)\n",
    "\n",
    "tokens = [post['description_tokens'] for post in data_records]\n",
    "dictionary_LDA = corpora.Dictionary(tokens)\n",
    "dictionary_LDA.filter_extremes(no_below=3)\n",
    "corpus = [dictionary_LDA.doc2bow(token) for token in tokens]"
   ]
  },
  {
   "cell_type": "markdown",
   "metadata": {},
   "source": [
    "## Coherence Score"
   ]
  },
  {
   "cell_type": "code",
   "execution_count": 67,
   "metadata": {},
   "outputs": [
    {
     "data": {
      "text/plain": [
       "0.3601859814829399"
      ]
     },
     "execution_count": 67,
     "metadata": {},
     "output_type": "execute_result"
    }
   ],
   "source": [
    "def get_coherence(model, texts, dictionary):\n",
    "    coherence_model = CoherenceModel(\n",
    "        model=model, \n",
    "        texts=texts, \n",
    "        dictionary=dictionary, \n",
    "        coherence='c_v')\n",
    "    coherence = coherence_model.get_coherence()\n",
    "    return coherence\n",
    "\n",
    "coherence = get_coherence(lda_model, tokens, dictionary_LDA)\n",
    "coherence"
   ]
  },
  {
   "cell_type": "code",
   "execution_count": null,
   "metadata": {},
   "outputs": [
    {
     "name": "stderr",
     "output_type": "stream",
     "text": [
      " 76%|███████▌  | 22/29 [28:59<11:31, 98.78s/it]"
     ]
    }
   ],
   "source": [
    "def get_metrics(texts, dictionary):\n",
    "    metrics_list = {\n",
    "        'n': [],\n",
    "        'mean_jaccard': [],\n",
    "        'coherence': []        \n",
    "    }\n",
    "    for n in tqdm(range(2,31)):\n",
    "        model = get_model(n)\n",
    "        topics = get_topics(model)\n",
    "        metrics_list['n'].append(n)\n",
    "        metrics_list['mean_jaccard'].append(mean_jaccard_similarity(topics)),\n",
    "        metrics_list['coherence'].append(get_coherence(model, texts, dictionary))\n",
    "    return metrics_list\n",
    "\n",
    "metrics_list = get_metrics(tokens, dictionary_LDA)"
   ]
  },
  {
   "cell_type": "markdown",
   "metadata": {},
   "source": [
    "## Inspecting Topics"
   ]
  },
  {
   "cell_type": "code",
   "execution_count": 4,
   "metadata": {},
   "outputs": [
    {
     "name": "stdout",
     "output_type": "stream",
     "text": [
      "0: 0.025*\"aws\" + 0.014*\"customer\" + 0.014*\"knowledge\" + 0.011*\"good\" + 0.011*\"big\" + 0.010*\"google_cloud_platform\" + 0.010*\"process\" + 0.008*\"dice\" + 0.008*\"client\" + 0.008*\"quality\" + 0.007*\"project\" + 0.007*\"must\" + 0.007*\"position\" + 0.007*\"engagement\" + 0.006*\"complex\" + 0.006*\"change\" + 0.006*\"application\" + 0.006*\"cloud\" + 0.006*\"job\" + 0.006*\"apply\"\n",
      "\n",
      "1: 0.027*\"science\" + 0.017*\"model\" + 0.015*\"analytics\" + 0.012*\"technology\" + 0.011*\"client\" + 0.010*\"scientist\" + 0.010*\"analysis\" + 0.009*\"technique\" + 0.007*\"help\" + 0.007*\"apply\" + 0.006*\"tool\" + 0.006*\"lead\" + 0.006*\"project\" + 0.006*\"knowledge\" + 0.006*\"professional\" + 0.006*\"machine_learning\" + 0.006*\"algorithm\" + 0.006*\"analytical\" + 0.006*\"opportunity\" + 0.005*\"information\"\n",
      "\n",
      "2: 0.028*\"product\" + 0.019*\"engineering\" + 0.019*\"build\" + 0.019*\"customer\" + 0.017*\"technology\" + 0.015*\"platform\" + 0.014*\"engineer\" + 0.013*\"design\" + 0.013*\"technical\" + 0.009*\"service\" + 0.009*\"big\" + 0.009*\"analytics\" + 0.009*\"software\" + 0.009*\"cloud\" + 0.008*\"drive\" + 0.008*\"help\" + 0.008*\"deliver\" + 0.008*\"pipeline\" + 0.008*\"role\" + 0.007*\"new\"\n",
      "\n",
      "3: 0.041*\"test\" + 0.036*\"software\" + 0.024*\"engineering\" + 0.022*\"application\" + 0.017*\"engineer\" + 0.013*\"design\" + 0.010*\"technical\" + 0.009*\"job\" + 0.009*\"technology\" + 0.008*\"code\" + 0.007*\"process\" + 0.007*\"automation\" + 0.007*\"architecture\" + 0.007*\"service\" + 0.007*\"platform\" + 0.006*\"knowledge\" + 0.006*\"big\" + 0.006*\"environment\" + 0.005*\"create\" + 0.005*\"tool\"\n",
      "\n",
      "4: 0.020*\"design\" + 0.016*\"analysis\" + 0.015*\"knowledge\" + 0.015*\"database\" + 0.014*\"warehouse\" + 0.013*\"model\" + 0.012*\"sql\" + 0.012*\"tool\" + 0.010*\"strong\" + 0.010*\"process\" + 0.010*\"report\" + 0.009*\"analyst\" + 0.009*\"technical\" + 0.009*\"etl\" + 0.009*\"application\" + 0.008*\"reporting\" + 0.008*\"project\" + 0.008*\"analytics\" + 0.007*\"technology\" + 0.007*\"azure\"\n",
      "\n",
      "5: 0.009*\"company\" + 0.008*\"analysis\" + 0.008*\"customer\" + 0.008*\"opportunity\" + 0.008*\"analytics\" + 0.006*\"employee\" + 0.006*\"product\" + 0.005*\"help\" + 0.005*\"create\" + 0.005*\"knowledge\" + 0.005*\"role\" + 0.005*\"new\" + 0.005*\"process\" + 0.005*\"client\" + 0.004*\"research\" + 0.004*\"analyst\" + 0.004*\"technology\" + 0.004*\"environment\" + 0.004*\"information\" + 0.004*\"position\"\n",
      "\n",
      "6: 0.063*\"entry\" + 0.020*\"computer\" + 0.019*\"customer\" + 0.018*\"position\" + 0.017*\"entry_clerk\" + 0.017*\"must\" + 0.016*\"enter\" + 0.016*\"database\" + 0.013*\"look\" + 0.013*\"information\" + 0.012*\"company\" + 0.011*\"great\" + 0.010*\"job\" + 0.009*\"office\" + 0.009*\"client\" + 0.009*\"entry_specialist\" + 0.009*\"work_home\" + 0.009*\"qualification\" + 0.008*\"role\" + 0.008*\"order\"\n",
      "\n",
      "7: 0.012*\"process\" + 0.009*\"position\" + 0.008*\"analytics\" + 0.008*\"opportunity\" + 0.007*\"company\" + 0.007*\"information\" + 0.007*\"microsoft\" + 0.006*\"job\" + 0.005*\"technology\" + 0.005*\"project\" + 0.005*\"area\" + 0.005*\"role\" + 0.005*\"service\" + 0.005*\"tool\" + 0.004*\"help\" + 0.004*\"sap\" + 0.004*\"look\" + 0.004*\"customer\" + 0.004*\"hr\" + 0.004*\"client\"\n",
      "\n",
      "8: 0.015*\"client\" + 0.013*\"service\" + 0.012*\"technology\" + 0.008*\"role\" + 0.007*\"knowledge\" + 0.007*\"customer\" + 0.007*\"software\" + 0.006*\"ibm\" + 0.006*\"application\" + 0.006*\"technical\" + 0.006*\"well\" + 0.005*\"product\" + 0.005*\"sexual_orientation_gender_identity\" + 0.005*\"across\" + 0.005*\"expertise\" + 0.005*\"industry\" + 0.005*\"sale\" + 0.005*\"global\" + 0.005*\"manage\" + 0.004*\"project\"\n",
      "\n",
      "9: 0.014*\"engineer\" + 0.010*\"analytics\" + 0.008*\"technology\" + 0.008*\"engineering\" + 0.008*\"build\" + 0.008*\"cloud\" + 0.007*\"position\" + 0.007*\"pipeline\" + 0.007*\"sql\" + 0.007*\"design\" + 0.007*\"product\" + 0.007*\"model\" + 0.006*\"company\" + 0.006*\"etc\" + 0.006*\"big\" + 0.006*\"strong\" + 0.006*\"tool\" + 0.005*\"science\" + 0.005*\"applicant_receive_consideration_employment\" + 0.005*\"equal_opportunity_employer_qualify\"\n",
      "\n",
      "10: 0.017*\"information\" + 0.013*\"program\" + 0.013*\"report\" + 0.012*\"position\" + 0.009*\"service\" + 0.009*\"maintain\" + 0.008*\"assist\" + 0.008*\"department\" + 0.008*\"process\" + 0.007*\"employee\" + 0.007*\"ensure\" + 0.007*\"review\" + 0.007*\"job\" + 0.007*\"customer\" + 0.006*\"perform\" + 0.006*\"may\" + 0.006*\"education\" + 0.006*\"research\" + 0.006*\"staff\" + 0.006*\"knowledge\"\n",
      "\n",
      "11: 0.022*\"project\" + 0.017*\"clinical\" + 0.012*\"quality\" + 0.009*\"health\" + 0.008*\"knowledge\" + 0.008*\"study\" + 0.007*\"process\" + 0.007*\"patient\" + 0.007*\"healthcare\" + 0.007*\"activity\" + 0.007*\"standard\" + 0.007*\"database\" + 0.006*\"plan\" + 0.006*\"ensure\" + 0.006*\"review\" + 0.006*\"report\" + 0.006*\"information\" + 0.006*\"care\" + 0.006*\"lead\" + 0.006*\"manage\"\n",
      "\n",
      "12: 0.027*\"product\" + 0.019*\"marketing\" + 0.012*\"market\" + 0.010*\"strategy\" + 0.010*\"lead\" + 0.009*\"sale\" + 0.009*\"drive\" + 0.009*\"analytics\" + 0.008*\"partner\" + 0.007*\"digital\" + 0.007*\"new\" + 0.007*\"customer\" + 0.007*\"insight\" + 0.007*\"client\" + 0.006*\"company\" + 0.006*\"science\" + 0.006*\"opportunity\" + 0.006*\"across\" + 0.006*\"role\" + 0.005*\"build\"\n",
      "\n",
      "13: 0.028*\"work_home\" + 0.018*\"job\" + 0.015*\"company\" + 0.010*\"part_time\" + 0.008*\"new\" + 0.006*\"client\" + 0.006*\"service\" + 0.006*\"customer_service_representative\" + 0.005*\"look\" + 0.005*\"position\" + 0.005*\"home\" + 0.005*\"remote\" + 0.005*\"perform\" + 0.004*\"opportunity\" + 0.004*\"opportunity_connect\" + 0.004*\"hire_employee_directly\" + 0.004*\"entry_clerk\" + 0.004*\"time\" + 0.004*\"people\" + 0.004*\"line\"\n",
      "\n",
      "14: 0.015*\"service\" + 0.014*\"project\" + 0.012*\"network\" + 0.011*\"company\" + 0.009*\"technology\" + 0.009*\"client\" + 0.008*\"security\" + 0.006*\"good\" + 0.006*\"create\" + 0.005*\"job\" + 0.005*\"model\" + 0.005*\"technician\" + 0.005*\"position\" + 0.005*\"level\" + 0.005*\"customer\" + 0.005*\"us\" + 0.004*\"drive\" + 0.004*\"make\" + 0.004*\"role\" + 0.004*\"must\"\n",
      "\n",
      "15: 0.013*\"design\" + 0.009*\"project\" + 0.009*\"strong\" + 0.008*\"build\" + 0.007*\"technical\" + 0.007*\"analytics\" + 0.005*\"create\" + 0.005*\"perform\" + 0.005*\"analysis\" + 0.005*\"environment\" + 0.005*\"warehouse\" + 0.005*\"program\" + 0.004*\"knowledge\" + 0.004*\"set\" + 0.004*\"lead\" + 0.004*\"expertise\" + 0.004*\"organization\" + 0.004*\"code\" + 0.004*\"job\" + 0.004*\"big\"\n",
      "\n",
      "16: 0.009*\"service\" + 0.009*\"information\" + 0.008*\"least_year\" + 0.008*\"customer\" + 0.007*\"process\" + 0.007*\"position\" + 0.006*\"analysis\" + 0.005*\"health_care\" + 0.005*\"new\" + 0.005*\"base\" + 0.005*\"role\" + 0.005*\"well\" + 0.005*\"performance\" + 0.005*\"healthcare\" + 0.005*\"technology\" + 0.005*\"environment\" + 0.005*\"test\" + 0.004*\"within\" + 0.004*\"life_best\" + 0.004*\"provider\"\n",
      "\n",
      "17: 0.032*\"project\" + 0.025*\"center\" + 0.020*\"client\" + 0.016*\"service\" + 0.014*\"manage\" + 0.012*\"operation\" + 0.011*\"network\" + 0.010*\"program\" + 0.009*\"manager\" + 0.009*\"design\" + 0.009*\"infrastructure\" + 0.008*\"technical\" + 0.007*\"process\" + 0.007*\"company\" + 0.007*\"engineering\" + 0.007*\"lead\" + 0.007*\"sale\" + 0.006*\"environment\" + 0.005*\"responsibility\" + 0.005*\"maintain\"\n",
      "\n",
      "18: 0.020*\"technology\" + 0.014*\"process\" + 0.013*\"enterprise\" + 0.013*\"governance\" + 0.012*\"lead\" + 0.012*\"quality\" + 0.011*\"design\" + 0.011*\"technical\" + 0.010*\"project\" + 0.010*\"architecture\" + 0.010*\"strategy\" + 0.009*\"knowledge\" + 0.009*\"bull\" + 0.008*\"across\" + 0.007*\"implementation\" + 0.007*\"service\" + 0.007*\"ensure\" + 0.007*\"implement\" + 0.007*\"standard\" + 0.007*\"information\"\n",
      "\n",
      "19: 0.041*\"work_home\" + 0.030*\"job\" + 0.029*\"also\" + 0.027*\"entry\" + 0.022*\"well\" + 0.020*\"product\" + 0.016*\"online\" + 0.015*\"home\" + 0.013*\"customer\" + 0.013*\"service\" + 0.012*\"entry_level\" + 0.011*\"must\" + 0.011*\"background\" + 0.010*\"review\" + 0.009*\"great\" + 0.009*\"position\" + 0.008*\"various\" + 0.008*\"access_quiet_work\" + 0.008*\"market\" + 0.007*\"look\"\n",
      "\n"
     ]
    }
   ],
   "source": [
    "for i,topic in lda_model.show_topics(formatted=True,\n",
    "                                     num_topics=num_topics, \n",
    "                                     num_words=20):\n",
    "    print(str(i)+\": \"+ topic)\n",
    "    print()"
   ]
  },
  {
   "cell_type": "code",
   "execution_count": null,
   "metadata": {},
   "outputs": [],
   "source": [
    "lda_model[corpus[0]]"
   ]
  },
  {
   "cell_type": "code",
   "execution_count": null,
   "metadata": {},
   "outputs": [],
   "source": [
    "# https://cran.r-project.org/web/packages/LDAvis/vignettes/details.pdf\n",
    "# Here a short legend to explain the vis:\n",
    "# size of bubble: proportional to the proportions of the topics across the\n",
    "# N total tokens in the corpus\n",
    "# red bars: estimated number of times a given term was generated by a given topic\n",
    "# blue bars: overall frequency of each term in the corpus\n",
    "# -- Relevance of words is computed with a parameter lambda\n",
    "# -- Lambda optimal value ~0.6 \n",
    "# (https://nlp.stanford.edu/events/illvi2014/papers/sievert-illvi2014.pdf)\n",
    "%matplotlib inline\n",
    "import pyLDAvis\n",
    "import pyLDAvis.gensim\n",
    "vis = pyLDAvis.gensim.prepare(\n",
    "    topic_model=lda_model, \n",
    "    corpus=corpus, \n",
    "    dictionary=dictionary_LDA\n",
    ")\n",
    "pyLDAvis.enable_notebook()\n",
    "pyLDAvis.display(vis)"
   ]
  },
  {
   "cell_type": "code",
   "execution_count": null,
   "metadata": {},
   "outputs": [],
   "source": []
  }
 ],
 "metadata": {
  "kernelspec": {
   "display_name": "JobDash",
   "language": "python",
   "name": "jobdash"
  },
  "language_info": {
   "codemirror_mode": {
    "name": "ipython",
    "version": 3
   },
   "file_extension": ".py",
   "mimetype": "text/x-python",
   "name": "python",
   "nbconvert_exporter": "python",
   "pygments_lexer": "ipython3",
   "version": "3.6.12"
  }
 },
 "nbformat": 4,
 "nbformat_minor": 4
}
