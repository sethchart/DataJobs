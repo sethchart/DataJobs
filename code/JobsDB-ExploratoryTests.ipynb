{
 "cells": [
  {
   "cell_type": "code",
   "execution_count": 23,
   "metadata": {},
   "outputs": [],
   "source": [
    "import sqlite3\n",
    "import pandas as pd\n",
    "\n",
    "class JobsDb(object):\n",
    "    \n",
    "    def __init__(self):\n",
    "        self.conn = sqlite3.connect('../data/jobs.sqlite')\n",
    "        self.cur = self.conn.cursor()\n",
    "        jobs_create_query = \"\"\"\n",
    "        CREATE TABLE IF NOT EXISTS jobs (\n",
    "            id INTEGER PRIMARY KEY,\n",
    "            title TEXT NOT NULL,\n",
    "            description TEXT NOT NULL,\n",
    "            datetime TEXT NOT NULL,\n",
    "            url TEXT NOT NULL\n",
    "        )\n",
    "        \"\"\"\n",
    "        self.cur.execute(jobs_create_query)\n",
    "        salary_create_query = \"\"\"\n",
    "        CREATE TABLE IF NOT EXISTS salary (\n",
    "            job_id INTEGER,\n",
    "            salary REAL,\n",
    "            salary_min REAL,\n",
    "            salary_max REAL,\n",
    "            salary_type TEXT,\n",
    "            salary_currency_code TEXT,\n",
    "            FOREIGN KEY (job_id)\n",
    "                REFERENCES jobs (id)\n",
    "                    ON DELETE CASCADE\n",
    "                    ON UPDATE CASCADE\n",
    "        )\n",
    "        \"\"\"\n",
    "        self.cur.execute(salary_create_query)\n",
    " \n",
    "    def close(self):\n",
    "        \"\"\"Closes the cursor and connection created by initstantiating a JobsDb object.\"\"\"\n",
    "        self.cur.close()\n",
    "        self.conn.close()\n",
    "  \n",
    "    def list_tables(self):\n",
    "        \"\"\"Queries the database and returns a list of table names.\"\"\"\n",
    "        query = \"\"\"\n",
    "            SELECT name \n",
    "            FROM sqlite_master\n",
    "            WHERE type='table';\n",
    "        \"\"\"\n",
    "        response = self.cur.execute(query).fetchall()\n",
    "        table_names = [r[0] for r in response]\n",
    "        return table_names\n",
    "\n",
    "    def list_column_names(self, table_name):\n",
    "        \"\"\"Given the name of a table in the data base, this function returns a list of column names.\n",
    "        \n",
    "        Keyword Arguments:\n",
    "        table_name -- name of the table whoes columns will be listed.\n",
    "        \n",
    "        Use list_tables method to obtain a list of tables.\n",
    "        \"\"\"\n",
    "        query = f\"\"\"\n",
    "            PRAGMA table_info({table_name});\n",
    "            \"\"\"\n",
    "        response = self.cur.execute(query).fetchall()\n",
    "        column_names = [r[1] for r in response]\n",
    "        return column_names\n",
    "\n",
    "    def load_query_as_df(self, query):\n",
    "        \"\"\"Given a valid SQL query formated as a string, \n",
    "        this function returns the output of the query as \n",
    "        a pandas dataframe.\n",
    "        \n",
    "        Keyword Arguments:\n",
    "        query -- SQL query formated as a string.\n",
    "        \"\"\"\n",
    "        df = pd.read_sql(query, self.conn)\n",
    "        return df\n",
    "\n",
    "    def load_table_as_df(self, table_name):\n",
    "        \"\"\"Given the name of a table in the database, \n",
    "        this function loads the table as as pandas dataframe.\n",
    "        \n",
    "        Keyword Arguments:\n",
    "        table_name -- name of tables whoes contents will be returned as a dataframe\n",
    "        \n",
    "        Use the list_tables method to obtain a list of tables.\n",
    "        \"\"\"\n",
    "        query = f\"\"\"\n",
    "            SELECT *\n",
    "            FROM {table_name};\n",
    "            \"\"\"\n",
    "        df = self.load_query_as_df(query)\n",
    "        return df        \n",
    "        \n",
    "    def write_row_to_table(self, table_name, row_dict):\n",
    "        \"\"\"Given a table name and a dictionary with keys matching table column names \n",
    "        and values complying with column datatypes, this function writes a new row \n",
    "        to the specified table.\n",
    "        \n",
    "        Keyword Arguments:\n",
    "        table_name -- name of the table to write to.\n",
    "        row_dict -- dictionary containing row data.\n",
    "        \n",
    "        Use the list_tables method to obtain a list of tables.\n",
    "        \"\"\"\n",
    "        query = f\"\"\"\n",
    "            INSERT INTO {table_name} ({', '.join(row_dict.keys())})\n",
    "            VALUES {tuple(row_dict.values())};\n",
    "        \"\"\"\n",
    "        self.cur.execute(query)"
   ]
  },
  {
   "cell_type": "code",
   "execution_count": 24,
   "metadata": {},
   "outputs": [],
   "source": [
    "db = JobsDb()"
   ]
  },
  {
   "cell_type": "code",
   "execution_count": 25,
   "metadata": {},
   "outputs": [
    {
     "data": {
      "text/plain": [
       "['jobs', 'salary']"
      ]
     },
     "execution_count": 25,
     "metadata": {},
     "output_type": "execute_result"
    }
   ],
   "source": [
    "db.list_tables()"
   ]
  },
  {
   "cell_type": "code",
   "execution_count": 26,
   "metadata": {},
   "outputs": [
    {
     "data": {
      "text/plain": [
       "['id', 'title', 'description', 'datetime', 'url']"
      ]
     },
     "execution_count": 26,
     "metadata": {},
     "output_type": "execute_result"
    }
   ],
   "source": [
    "db.list_column_names('jobs')"
   ]
  },
  {
   "cell_type": "code",
   "execution_count": 27,
   "metadata": {},
   "outputs": [],
   "source": [
    "row_dict = {\n",
    "    'title': 'test job',\n",
    "    'datetime': 'now',\n",
    "    'description': 'cool job for cool folks.',\n",
    "    'url': 'https://example.com'    \n",
    "}\n",
    "db.write_row_to_table('jobs', row_dict)"
   ]
  },
  {
   "cell_type": "code",
   "execution_count": 28,
   "metadata": {},
   "outputs": [
    {
     "data": {
      "text/html": [
       "<div>\n",
       "<style scoped>\n",
       "    .dataframe tbody tr th:only-of-type {\n",
       "        vertical-align: middle;\n",
       "    }\n",
       "\n",
       "    .dataframe tbody tr th {\n",
       "        vertical-align: top;\n",
       "    }\n",
       "\n",
       "    .dataframe thead th {\n",
       "        text-align: right;\n",
       "    }\n",
       "</style>\n",
       "<table border=\"1\" class=\"dataframe\">\n",
       "  <thead>\n",
       "    <tr style=\"text-align: right;\">\n",
       "      <th></th>\n",
       "      <th>id</th>\n",
       "      <th>title</th>\n",
       "      <th>description</th>\n",
       "      <th>datetime</th>\n",
       "      <th>url</th>\n",
       "    </tr>\n",
       "  </thead>\n",
       "  <tbody>\n",
       "    <tr>\n",
       "      <th>0</th>\n",
       "      <td>1</td>\n",
       "      <td>test job</td>\n",
       "      <td>cool job for cool folks.</td>\n",
       "      <td>now</td>\n",
       "      <td>https://example.com</td>\n",
       "    </tr>\n",
       "  </tbody>\n",
       "</table>\n",
       "</div>"
      ],
      "text/plain": [
       "   id     title               description datetime                  url\n",
       "0   1  test job  cool job for cool folks.      now  https://example.com"
      ]
     },
     "execution_count": 28,
     "metadata": {},
     "output_type": "execute_result"
    }
   ],
   "source": [
    "db.load_table_as_df('jobs')"
   ]
  },
  {
   "cell_type": "code",
   "execution_count": 29,
   "metadata": {},
   "outputs": [],
   "source": [
    "db.close()"
   ]
  },
  {
   "cell_type": "code",
   "execution_count": null,
   "metadata": {},
   "outputs": [],
   "source": []
  }
 ],
 "metadata": {
  "kernelspec": {
   "display_name": "JobDash",
   "language": "python",
   "name": "jobdash"
  },
  "language_info": {
   "codemirror_mode": {
    "name": "ipython",
    "version": 3
   },
   "file_extension": ".py",
   "mimetype": "text/x-python",
   "name": "python",
   "nbconvert_exporter": "python",
   "pygments_lexer": "ipython3",
   "version": "3.6.12"
  }
 },
 "nbformat": 4,
 "nbformat_minor": 4
}
