{
 "cells": [
  {
   "cell_type": "markdown",
   "metadata": {},
   "source": [
    "# "
   ]
  },
  {
   "cell_type": "code",
   "execution_count": 1,
   "metadata": {},
   "outputs": [],
   "source": [
    "import numpy as np\n",
    "np.random.seed(42)\n",
    "\n",
    "# Database\n",
    "from JobsDb import JobsDb\n",
    "\n",
    "# Verification\n",
    "from sklearn.model_selection import train_test_split\n",
    "\n",
    "# Vectorization\n",
    "from sklearn.feature_extraction.text import TfidfVectorizer\n",
    "\n",
    "# Dimension Reduction\n",
    "from sklearn.decomposition import TruncatedSVD\n",
    "\n",
    "# Clustering\n",
    "from sklearn.cluster import KMeans\n",
    "\n",
    "# Classifier\n",
    "from sklearn.ensemble import RandomForestClassifier\n",
    "\n",
    "# Pipeline\n",
    "from sklearn.pipeline import Pipeline"
   ]
  },
  {
   "cell_type": "code",
   "execution_count": 2,
   "metadata": {},
   "outputs": [
    {
     "name": "stdout",
     "output_type": "stream",
     "text": [
      "(9485, 4)\n"
     ]
    },
    {
     "data": {
      "text/html": [
       "<div>\n",
       "<style scoped>\n",
       "    .dataframe tbody tr th:only-of-type {\n",
       "        vertical-align: middle;\n",
       "    }\n",
       "\n",
       "    .dataframe tbody tr th {\n",
       "        vertical-align: top;\n",
       "    }\n",
       "\n",
       "    .dataframe thead th {\n",
       "        text-align: right;\n",
       "    }\n",
       "</style>\n",
       "<table border=\"1\" class=\"dataframe\">\n",
       "  <thead>\n",
       "    <tr style=\"text-align: right;\">\n",
       "      <th></th>\n",
       "      <th>id</th>\n",
       "      <th>title</th>\n",
       "      <th>url</th>\n",
       "      <th>description</th>\n",
       "    </tr>\n",
       "  </thead>\n",
       "  <tbody>\n",
       "    <tr>\n",
       "      <th>9680</th>\n",
       "      <td>9681</td>\n",
       "      <td>Railcar Verifier/Transload Team Member/Data Entry</td>\n",
       "      <td>https://www.careerjet.com/jobad/us5194732b36a6...</td>\n",
       "      <td>\\nCompany Overview  Come join a Winning Team! ...</td>\n",
       "    </tr>\n",
       "    <tr>\n",
       "      <th>9681</th>\n",
       "      <td>9682</td>\n",
       "      <td>Data Entry Clerk</td>\n",
       "      <td>https://www.careerjet.com/jobad/us83f88fb60b47...</td>\n",
       "      <td>\\n prepare, compile and sort documents for dat...</td>\n",
       "    </tr>\n",
       "    <tr>\n",
       "      <th>9682</th>\n",
       "      <td>9683</td>\n",
       "      <td>Data Scientist</td>\n",
       "      <td>https://www.careerjet.com/jobad/us466d6146a815...</td>\n",
       "      <td>\\n  \\n    Data Scientist is responsible for co...</td>\n",
       "    </tr>\n",
       "    <tr>\n",
       "      <th>9683</th>\n",
       "      <td>9684</td>\n",
       "      <td>Provider Data Specialist</td>\n",
       "      <td>https://www.careerjet.com/jobad/uscb5cda0893f6...</td>\n",
       "      <td>\\n  \\n    Title: Provider Data Specialist  Loc...</td>\n",
       "    </tr>\n",
       "    <tr>\n",
       "      <th>9684</th>\n",
       "      <td>9685</td>\n",
       "      <td>Security Data Architect</td>\n",
       "      <td>https://www.careerjet.com/jobad/us00dc3c284dbd...</td>\n",
       "      <td>\\nOur Mission  At Dobbs Defense, we deliver mi...</td>\n",
       "    </tr>\n",
       "  </tbody>\n",
       "</table>\n",
       "</div>"
      ],
      "text/plain": [
       "        id                                              title  \\\n",
       "9680  9681  Railcar Verifier/Transload Team Member/Data Entry   \n",
       "9681  9682                                   Data Entry Clerk   \n",
       "9682  9683                                     Data Scientist   \n",
       "9683  9684                           Provider Data Specialist   \n",
       "9684  9685                            Security Data Architect   \n",
       "\n",
       "                                                    url  \\\n",
       "9680  https://www.careerjet.com/jobad/us5194732b36a6...   \n",
       "9681  https://www.careerjet.com/jobad/us83f88fb60b47...   \n",
       "9682  https://www.careerjet.com/jobad/us466d6146a815...   \n",
       "9683  https://www.careerjet.com/jobad/uscb5cda0893f6...   \n",
       "9684  https://www.careerjet.com/jobad/us00dc3c284dbd...   \n",
       "\n",
       "                                            description  \n",
       "9680  \\nCompany Overview  Come join a Winning Team! ...  \n",
       "9681  \\n prepare, compile and sort documents for dat...  \n",
       "9682  \\n  \\n    Data Scientist is responsible for co...  \n",
       "9683  \\n  \\n    Title: Provider Data Specialist  Loc...  \n",
       "9684  \\nOur Mission  At Dobbs Defense, we deliver mi...  "
      ]
     },
     "execution_count": 2,
     "metadata": {},
     "output_type": "execute_result"
    }
   ],
   "source": [
    "db = JobsDb()\n",
    "df = db.load_table_as_df('jobs')\n",
    "db.close()\n",
    "df = df.iloc[9680:]\n",
    "print(df.shape)\n",
    "df.head()"
   ]
  },
  {
   "cell_type": "code",
   "execution_count": 3,
   "metadata": {},
   "outputs": [],
   "source": [
    "descriptions = df['description']"
   ]
  },
  {
   "cell_type": "code",
   "execution_count": 4,
   "metadata": {},
   "outputs": [],
   "source": [
    "train, test = train_test_split(descriptions, test_size=0.2)"
   ]
  },
  {
   "cell_type": "code",
   "execution_count": 7,
   "metadata": {},
   "outputs": [],
   "source": [
    "preprocessing_pipe = Pipeline(\n",
    "    steps = [\n",
    "        ('vectorization', TfidfVectorizer()),\n",
    "        ('dimensionReduction', TruncatedSVD())\n",
    "    ]\n",
    ")"
   ]
  },
  {
   "cell_type": "code",
   "execution_count": 8,
   "metadata": {},
   "outputs": [],
   "source": [
    "clustering_pipe = Pipeline(\n",
    "    steps = [\n",
    "        ('preprocessing', preprocessing_pipe),\n",
    "        ('clustering', KMeans()),\n",
    "    ]\n",
    ")"
   ]
  },
  {
   "cell_type": "code",
   "execution_count": 9,
   "metadata": {},
   "outputs": [],
   "source": [
    "target = clustering_pipe.fit_predict(train)"
   ]
  },
  {
   "cell_type": "code",
   "execution_count": 10,
   "metadata": {},
   "outputs": [],
   "source": [
    "classification_pipe = Pipeline(\n",
    "    steps = [\n",
    "        ('preprocessing', preprocessing_pipe),\n",
    "        ('classification', RandomForestClassifier)\n",
    "    ]\n",
    ")"
   ]
  },
  {
   "cell_type": "code",
   "execution_count": null,
   "metadata": {},
   "outputs": [],
   "source": []
  }
 ],
 "metadata": {
  "kernelspec": {
   "display_name": "JobDash",
   "language": "python",
   "name": "jobdash"
  },
  "language_info": {
   "codemirror_mode": {
    "name": "ipython",
    "version": 3
   },
   "file_extension": ".py",
   "mimetype": "text/x-python",
   "name": "python",
   "nbconvert_exporter": "python",
   "pygments_lexer": "ipython3",
   "version": "3.6.12"
  }
 },
 "nbformat": 4,
 "nbformat_minor": 4
}
