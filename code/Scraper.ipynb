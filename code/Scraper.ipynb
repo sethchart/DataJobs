{
 "cells": [
  {
   "cell_type": "code",
   "execution_count": 4,
   "metadata": {},
   "outputs": [
    {
     "data": {
      "text/plain": [
       "<module 'careerjet' from '/home/schart/Flatiron/DataScience/Phase5/Assessments/JobDash/careerjet.py'>"
      ]
     },
     "execution_count": 4,
     "metadata": {},
     "output_type": "execute_result"
    }
   ],
   "source": [
    "from importlib import reload\n",
    "import careerjet\n",
    "reload(careerjet)"
   ]
  },
  {
   "cell_type": "code",
   "execution_count": 5,
   "metadata": {},
   "outputs": [],
   "source": [
    "cj_scraper = careerjet.Scraper()"
   ]
  },
  {
   "cell_type": "code",
   "execution_count": 6,
   "metadata": {},
   "outputs": [
    {
     "data": {
      "text/plain": [
       "{'jobs': [{'salary_min': '2800',\n",
       "   'locations': 'New Mexico',\n",
       "   'salary_type': 'W',\n",
       "   'date': 'Mon, 21 Dec 2020 08:59:59 GMT',\n",
       "   'description': 'trustaff is currently seeking an experienced Medical/Surgical Registered Nurse for a 13-week travel contract.   The Medical Surgical Registered Nurse (MS RN) is responsible for managing the care of adult or elderly patients experiencing gen...',\n",
       "   'salary_currency_code': 'USD',\n",
       "   'salary': '$2800 per week',\n",
       "   'site': '',\n",
       "   'url': 'http://jobviewtrack.com/en-us/job-194e41607e44223d25266e4325326f535513/0be4210e1f3fde5730c207534d725dde.html?affid=a346884e4683d09460be421de217cff5',\n",
       "   'title': 'MS RN',\n",
       "   'salary_max': '2800',\n",
       "   'company': 'Trustaff'},\n",
       "  {'locations': 'Santa Barbara County, CA',\n",
       "   'site': '',\n",
       "   'date': 'Mon, 21 Dec 2020 08:59:59 GMT',\n",
       "   'url': 'http://jobviewtrack.com/en-us/job-1f4e416358161c0b072452020b1507130c4f1a0d1b71645e4f5e48663f1c4617540a1c080109005275595946131d0d/adf1bbc5247474d082747f64a9f156b6.html?affid=a346884e4683d09460be421de217cff5',\n",
       "   'title': 'Nurse Practitioner',\n",
       "   'description': 'Job Description   Cross Country Locums is looking for a Nurse Practitioner (NP) or a Physician Assistant (PA) for a locum assignment at a busy clinic in Santa Barbara County, California.  NP or PA  Must have UC or Occupational Medicine expe...',\n",
       "   'company': '',\n",
       "   'salary': ''},\n",
       "  {'locations': 'Winooski, VT',\n",
       "   'site': '',\n",
       "   'date': 'Mon, 21 Dec 2020 08:59:59 GMT',\n",
       "   'url': 'http://jobviewtrack.com/en-us/job-194a416948080618420622360a041c665712445851/9e87b30a9c367b24af0b8acc3b8ccb46.html?affid=a346884e4683d09460be421de217cff5',\n",
       "   'title': 'Deliver Eats with Uber Eats',\n",
       "   'description': \"Deliver with Uber. Earn on your schedule.   Deliver with Uber Eats on your schedule. Deliver for a few hours in the mornings, every night, or just on weekends—it's up to you.   Earn Extra Money. You’ll earn by bringing people the food they ...\",\n",
       "   'company': 'Uber Eats',\n",
       "   'salary': ''},\n",
       "  {'locations': 'Redmond, WA',\n",
       "   'site': '',\n",
       "   'date': 'Mon, 21 Dec 2020 08:59:59 GMT',\n",
       "   'url': 'http://jobviewtrack.com/en-us/job-131d417e42021b19460645432d0f090e0b45111a6b36444c544348011d6c741b46171f001c026412475d5847/c9c43eceb603d73cc5654a808f7ddf1d.html?affid=a346884e4683d09460be421de217cff5',\n",
       "   'title': 'Software Engineer',\n",
       "   'description': 'Job Description  Responsible for developing or testing computer software applications, systems or services. Evaluate requirements, estimate development costs, design and implement the software, review the design and implementation, improve ...',\n",
       "   'company': 'MICROSOFT CORP',\n",
       "   'salary': ''},\n",
       "  {'locations': 'Fountain, CO',\n",
       "   'site': '',\n",
       "   'date': 'Mon, 21 Dec 2020 08:59:59 GMT',\n",
       "   'url': 'http://jobviewtrack.com/en-us/job-131f417d4c161b4e731d4d0648250b0b0c56111a10717a4a4f590d30060342766406040818021759763808015e29694440016e56164511/15048e6db727367dfd96dcd2a004c17e.html?affid=a346884e4683d09460be421de217cff5',\n",
       "   'title': 'Part-Time Delivery',\n",
       "   'description': \"Deliver with Uber. Earn on your schedule.   Work on your schedule. Deliver for a few hours in the mornings, every night, or just on weekends; it's up to you.   Earn Good Money. You'll earn by bringing people the food they love from local re...\",\n",
       "   'company': 'Uber Eats',\n",
       "   'salary': ''},\n",
       "  {'locations': 'Port Costa, CA',\n",
       "   'site': '',\n",
       "   'date': 'Mon, 21 Dec 2020 08:59:59 GMT',\n",
       "   'url': 'http://jobviewtrack.com/en-us/job-121c416b41011707451845433b0206020155180d6b35464e45444f080a6c63114c0a1e041c653042111a6b204943584958080a6f10411957/925073e60749c58e3f22dc7b5e9921bb.html?affid=a346884e4683d09460be421de217cff5',\n",
       "   'title': 'Flexible Schedule - Deliver with Uber Eats',\n",
       "   'description': \"Deliver with Uber. Earn on your schedule.   Work on your schedule. Deliver for a few hours in the mornings, every night, or just on weekends—it's up to you.   Earn Good Money. You’ll earn by bringing people the food they love from local res...\",\n",
       "   'company': 'Uber Eats',\n",
       "   'salary': ''},\n",
       "  {'locations': 'Mio, MI',\n",
       "   'site': '',\n",
       "   'date': 'Mon, 21 Dec 2020 08:59:59 GMT',\n",
       "   'url': 'http://jobviewtrack.com/en-us/job-4c1b416948080618420622360a041c665413415a5b/a544c8cba18f7c5b7369d7df32d1e561.html?affid=a346884e4683d09460be421de217cff5',\n",
       "   'title': 'Deliver with Uber Eats',\n",
       "   'description': \"Deliver with Uber. Earn on your schedule.   Work on your schedule. Deliver for a few hours in the mornings, every night, or just on weekends; it's up to you.   Earn Good Money. You'll earn by bringing people the food they love from local re...\",\n",
       "   'company': 'Uber Eats',\n",
       "   'salary': ''},\n",
       "  {'locations': 'Wilsonville, AL',\n",
       "   'site': '',\n",
       "   'date': 'Mon, 21 Dec 2020 08:59:59 GMT',\n",
       "   'url': 'http://jobviewtrack.com/en-us/job-1e1e417a480104025e547002116328080a44542c0c1f435d585f54662b0b4b1d56061a186c210a4f106a3e164f4051542c515a5b12/6f1fc0f1cbb3ff259c2425e1d4abf760.html?affid=a346884e4683d09460be421de217cff5',\n",
       "   'title': 'Food Delivery - Weekly Pay',\n",
       "   'description': \"Deliver with Uber. Earn on your schedule.   Deliver with Uber Eats on your schedule. Deliver for a few hours in the mornings, every night, or just on weekends—it's up to you.   Earn Extra Money. You’ll earn by bringing people the food they ...\",\n",
       "   'company': 'Uber Eats',\n",
       "   'salary': ''},\n",
       "  {'locations': 'Needham, MA',\n",
       "   'site': '',\n",
       "   'date': 'Mon, 21 Dec 2020 08:59:59 GMT',\n",
       "   'url': 'http://jobviewtrack.com/en-us/job-491d416b420b0b6c6118451b010302026764110400054f593f784f011d6f164619535f/26284b15f326dd7eed45cc70e8ef7b1c.html?affid=a346884e4683d09460be421de217cff5',\n",
       "   'title': 'Deliver Food with Uber - Flexible Gig',\n",
       "   'description': \"Deliver with Uber. Earn on your schedule.   Deliver with Uber Eats on your schedule. Deliver for a few hours in the mornings, every night, or just on weekends—it's up to you.   Earn Extra Money. You’ll earn by bringing people the food they ...\",\n",
       "   'company': 'Uber Eats',\n",
       "   'salary': ''},\n",
       "  {'locations': 'Fort Lauderdale, FL',\n",
       "   'site': '',\n",
       "   'date': 'Mon, 21 Dec 2020 08:59:59 GMT',\n",
       "   'url': 'http://jobviewtrack.com/en-us/job-191d417e48071a1c4e005943290f0f0b1c53006a25165c4e510d642d266c741143161a081a1e67611a09050a595f3f6148120a02264c19575c/9c931f2ab8ea9c89ed20429e25d5a28a.html?affid=a346884e4683d09460be421de217cff5',\n",
       "   'title': 'Security Analyst Level III-FTL',\n",
       "   'description': 'Experience:   5-7+ years of progressive experience in enterprise computing and information security, including complex Internet, computing, network, data, information, facilities, and human capital management technology and security issues,...',\n",
       "   'company': 'SNI Technology',\n",
       "   'salary': ''},\n",
       "  {'locations': 'Seattle, WA',\n",
       "   'site': '',\n",
       "   'date': 'Mon, 21 Dec 2020 08:59:59 GMT',\n",
       "   'url': 'http://jobviewtrack.com/en-us/job-4c1a417e42021b19460645432c041802094f04050c1d5e0b78434a0d010b4206223007071a10045211482c1d4d42534848166d3d4812541409130b472145020d051c5a46584359662b0b51114c0c180c0b09110031060e1a444e585f2f2101094e1a45061a605c54501345/936129ef02842d073c766777b1ce07ad.html?affid=a346884e4683d09460be421de217cff5',\n",
       "   'title': 'Software Development Engineer',\n",
       "   'description': 'Amazon Go is a new kind of store with no lines and no checkout! Customers simply use the Amazon Go app to enter the store, take what they want from our selection of fresh, delicious meals and grocery essentials, and go!   Our checkout-free ...',\n",
       "   'company': 'Amazon',\n",
       "   'salary': ''},\n",
       "  {'locations': 'Palmetto, GA',\n",
       "   'site': '',\n",
       "   'date': 'Mon, 21 Dec 2020 08:59:59 GMT',\n",
       "   'url': 'http://jobviewtrack.com/en-us/job-1e1e417d4c161b43731d4d06482701080100300d051a5c4e4f542f340e1c5354740a05044e23004c1d1e0c0153297b4242004f3e460654433c0803026770151a1d537e4250482f2200014354640604081802175975515c451d/922b1d23bbfcccd22aa94e3eb30d3302.html?affid=a346884e4683d09460be421de217cff5',\n",
       "   'title': 'Part-Time Food Delivery - Uber Eats',\n",
       "   'description': \"Deliver with Uber. Earn on your schedule.   Work on your schedule. Deliver for a few hours in the mornings, every night, or just on weekends; it's up to you.   Earn Good Money. You'll earn by bringing people the food they love from local re...\",\n",
       "   'company': 'Uber Eats',\n",
       "   'salary': ''},\n",
       "  {'salary_min': '46.97',\n",
       "   'locations': 'Brighton, MI',\n",
       "   'salary_type': 'H',\n",
       "   'date': 'Mon, 21 Dec 2020 08:59:59 GMT',\n",
       "   'description': 'Field RN (Registered Nurse) - Vaccination Support  Brighton, MI    INCLUDES ADDITIONAL HERO PAY *   ** Full Time, Benefits Available, CONTRACT position, expected to last 3 months, possibly longer! **  *** Field position to support COVID-19 ...',\n",
       "   'salary_currency_code': 'USD',\n",
       "   'salary': '$46.97 per hour',\n",
       "   'site': '',\n",
       "   'url': 'http://jobviewtrack.com/en-us/job-1913416358161c0b07266e612e080b0b01003a1d1b004f296f630d22060b4b10222d1d131d0267661d0d05172b1a0e1f1d50/8ddb743960ccf0debf327235d2a57d9a.html?affid=a346884e4683d09460be421de217cff5',\n",
       "   'title': 'Field Nurse (RN) - COVID Vaccinations',\n",
       "   'salary_max': '46.97',\n",
       "   'company': 'CareNational'},\n",
       "  {'locations': 'Sachse, TX',\n",
       "   'site': '',\n",
       "   'date': 'Mon, 21 Dec 2020 08:59:59 GMT',\n",
       "   'url': 'http://jobviewtrack.com/en-us/job-4b12416948080618420659432c1307110052763f0c164147440d7d05166c630649150d136c23004c1d1e0c0153296a48480f0317264611575d56/4ff4425d1fbb7811cea0b85e9ede8f8e.html?affid=a346884e4683d09460be421de217cff5',\n",
       "   'title': 'Delivery Driver - Weekly Pay',\n",
       "   'description': \"Deliver with Uber. Earn on your schedule.   Work on your schedule. Deliver for a few hours in the mornings, every night, or just on weekends—it's up to you.   Earn Good Money. You’ll earn by bringing people the food they love from local res...\",\n",
       "   'company': 'Uber Eats',\n",
       "   'salary': ''},\n",
       "  {'locations': 'Bellevue, WA',\n",
       "   'site': '',\n",
       "   'date': 'Mon, 21 Dec 2020 08:59:59 GMT',\n",
       "   'url': 'http://jobviewtrack.com/en-us/job-1e12416c5d1403074415540a070f1d473655041806015e0b7c434c08161d537673161811011511003506081f5358492f7e164f2f49154c1a1b156c26155018010a125e4252435e442e00461859101c632f17154c1d0b08074344535e0d371a1e571b521769535d555215/7af42e933f8e8ed06637c673f3828cf9.html?affid=a346884e4683d09460be421de217cff5',\n",
       "   'title': 'Sr Analyst, Applications Support',\n",
       "   'description': 'A Senior Applications Support Analyst has in-depth experience, knowledge and skills in an application support discipline (Varicent Sales Performance Compensation Systems, Middleware, Cloud Platforms, and etc..). A Senior Analyst is able to ...',\n",
       "   'company': 'T-Mobile',\n",
       "   'salary': ''},\n",
       "  {'locations': 'New Port Richey, FL',\n",
       "   'site': '',\n",
       "   'date': 'Mon, 21 Dec 2020 08:59:59 GMT',\n",
       "   'url': 'http://jobviewtrack.com/en-us/job-181e416948080618420659432c1307110052763f0c164147440d7d05166c630649150d136c23004c1d1e0c0153296a48480f0317264d115351/c93c7b1041cb1c692bb2e8cfd75b31ac.html?affid=a346884e4683d09460be421de217cff5',\n",
       "   'title': 'Delivery Driver - Weekly Pay',\n",
       "   'description': \"Deliver with Uber. Earn on your schedule.   Work on your schedule. Deliver for a few hours in the mornings, every night, or just on weekends; it's up to you.   Earn Good Money. You'll earn by bringing people the food they love from local re...\",\n",
       "   'company': 'Uber Eats',\n",
       "   'salary': ''},\n",
       "  {'locations': 'Peabody, MA',\n",
       "   'site': '',\n",
       "   'date': 'Mon, 21 Dec 2020 08:59:59 GMT',\n",
       "   'url': 'http://jobviewtrack.com/en-us/job-4e4a416948080618420659432c1307110052763f0c164147440d7d05166c630649150d136c23004c1d1e0c0153296a48480f03172645125a5e53/c3df774814088103dc85d66708f74351.html?affid=a346884e4683d09460be421de217cff5',\n",
       "   'title': 'Delivery Driver - Weekly Pay',\n",
       "   'description': \"Deliver with Uber. Earn on your schedule.   Work on your schedule. Deliver for a few hours in the mornings, every night, or just on weekends—it's up to you.   Earn Good Money. You’ll earn by bringing people the food they love from local res...\",\n",
       "   'company': 'Uber Eats',\n",
       "   'salary': ''},\n",
       "  {'locations': 'Holland, OH',\n",
       "   'site': '',\n",
       "   'date': 'Mon, 21 Dec 2020 08:59:59 GMT',\n",
       "   'url': 'http://jobviewtrack.com/en-us/job-4e48416948080618420659432c1307110052763f0c164147440d7d05166c630649150d136c23004c1d1e0c0153296a48480f0317264518535c53/3bafdd2d9718bb4ba049f49118e4223a.html?affid=a346884e4683d09460be421de217cff5',\n",
       "   'title': 'Delivery Driver - Weekly Pay',\n",
       "   'description': \"Deliver with Uber. Earn on your schedule.   Work on your schedule. Deliver for a few hours in the mornings, every night, or just on weekends; it's up to you.   Earn Good Money. You'll earn by bringing people the food they love from local re...\",\n",
       "   'company': 'Uber Eats',\n",
       "   'salary': ''},\n",
       "  {'locations': 'Elizabethtown, NY',\n",
       "   'site': '',\n",
       "   'date': 'Mon, 21 Dec 2020 08:59:59 GMT',\n",
       "   'url': 'http://jobviewtrack.com/en-us/job-4c1f416b420b0b6c63114c0a1e041c653042111a68421c18041f/46eb28a2ddc888b6e2d3c28de5bb8ddc.html?affid=a346884e4683d09460be421de217cff5',\n",
       "   'title': 'Deliver Food with Uber Eats',\n",
       "   'description': \"Deliver with Uber. Earn on your schedule.   Work on your schedule. Deliver for a few hours in the mornings, every night, or just on weekends; it's up to you.   Earn Good Money. You'll earn by bringing people the food they love from local re...\",\n",
       "   'company': 'Uber Eats',\n",
       "   'salary': ''},\n",
       "  {'locations': 'Adamsville, TN',\n",
       "   'site': '',\n",
       "   'date': 'Mon, 21 Dec 2020 08:59:59 GMT',\n",
       "   'url': 'http://jobviewtrack.com/en-us/job-494e416948080618420659432c1307110052763f0c164147440d7d05166c630649150d136c23004c1d1e0c0153296a48480f0317264610575d56/811c01f52d75c9c17dc5a90726332f66.html?affid=a346884e4683d09460be421de217cff5',\n",
       "   'title': 'Delivery Driver - Weekly Pay',\n",
       "   'description': \"Deliver with Uber. Earn on your schedule.   Work on your schedule. Deliver for a few hours in the mornings, every night, or just on weekends; it's up to you.   Earn Good Money. You'll earn by bringing people the food they love from local re...\",\n",
       "   'company': 'Uber Eats',\n",
       "   'salary': ''}],\n",
       " 'hits': 3120569,\n",
       " 'response_time': 0.062755823135376,\n",
       " 'type': 'JOBS',\n",
       " 'pages': 156029}"
      ]
     },
     "execution_count": 6,
     "metadata": {},
     "output_type": "execute_result"
    }
   ],
   "source": [
    "results = cj_scraper.search()\n",
    "results"
   ]
  },
  {
   "cell_type": "code",
   "execution_count": null,
   "metadata": {},
   "outputs": [],
   "source": [
    "job = results['jobs'][0]\n",
    "job"
   ]
  },
  {
   "cell_type": "code",
   "execution_count": null,
   "metadata": {},
   "outputs": [],
   "source": [
    "url = job['url']\n",
    "url"
   ]
  },
  {
   "cell_type": "code",
   "execution_count": null,
   "metadata": {},
   "outputs": [],
   "source": [
    "full_description = cj_scraper.get_full_description(url)\n",
    "full_description"
   ]
  },
  {
   "cell_type": "code",
   "execution_count": null,
   "metadata": {},
   "outputs": [],
   "source": [
    "cj_scraper.append_full_descriptions(results=results)"
   ]
  },
  {
   "cell_type": "code",
   "execution_count": null,
   "metadata": {},
   "outputs": [],
   "source": [
    "cj_scraper.scrape_page()"
   ]
  },
  {
   "cell_type": "code",
   "execution_count": null,
   "metadata": {},
   "outputs": [],
   "source": []
  }
 ],
 "metadata": {
  "kernelspec": {
   "display_name": "JobDash",
   "language": "python",
   "name": "jobdash"
  },
  "language_info": {
   "codemirror_mode": {
    "name": "ipython",
    "version": 3
   },
   "file_extension": ".py",
   "mimetype": "text/x-python",
   "name": "python",
   "nbconvert_exporter": "python",
   "pygments_lexer": "ipython3",
   "version": "3.6.12"
  }
 },
 "nbformat": 4,
 "nbformat_minor": 4
}
