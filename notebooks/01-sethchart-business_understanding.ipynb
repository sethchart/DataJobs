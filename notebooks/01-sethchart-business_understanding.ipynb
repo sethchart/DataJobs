{
 "cells": [
  {
   "cell_type": "markdown",
   "id": "disabled-madness",
   "metadata": {},
   "source": [
    "## Business Understanding"
   ]
  },
  {
   "cell_type": "markdown",
   "id": "embedded-commander",
   "metadata": {},
   "source": [
    "The job market for the data industry can be difficult to navigate because there are a plethora of job titles and the relationship between titles and roles is often not well defined.\n",
    "Two identical roles may have completely different titles.\n",
    "Two substantially different roles may have the same title.\n",
    "This limits the usability of job titles as a means to succinctly communicate about data industry jobs.\n",
    "This project will address the issue by directly analyzing full job descriptions from a corpus of job postings to provide three main deliverables:"
   ]
  },
  {
   "cell_type": "markdown",
   "id": "hungarian-above",
   "metadata": {},
   "source": [
    "### Objectives"
   ]
  },
  {
   "cell_type": "markdown",
   "id": "bacterial-found",
   "metadata": {},
   "source": [
    " * First, from the language used in job descriptions (without titles), identify clusters of similar jobs based on their roles and responsibilities.\n",
    " * Second, a tool for classifying a provided job description according to our scheme.\n",
    " * Third, a comparison between our classification scheme and existing job titles ability to distinguish between roles."
   ]
  },
  {
   "cell_type": "markdown",
   "id": "analyzed-producer",
   "metadata": {},
   "source": [
    "### Available Resources"
   ]
  },
  {
   "cell_type": "markdown",
   "id": "tracked-treat",
   "metadata": {},
   "source": [
    "Recently two of the most recognizable job posting sites, LinkedIn and Indeed, have closed their job posting APIs and taken steps to discourage web scraping. This means that our preferred data sources were not available. \n",
    "\n",
    "We found that [careerjet.com](http://careerjet.com) has an public API and a fairly simple page structure for job posting. The official API [page](https://www.careerjet.com/partners/api/) for careerjet provides a python API package. Unfortunately, the official python package is not functional. There is an unofficial fork of the package that is functional that can be found [here](https://github.com/davebulaval/careerjet-api). \n",
    "\n",
    "The careerjet API is designed as a method for serving ads and tracks visits to careerjet job postings. For this reason, there are fairly restrictive rate limits for retrieving postings through the API. These limitations are not clearly documented, but they rendered the API unusable for large scale data collection.\n",
    "\n",
    "After discovering that the careerjet API would not be usable for data collection we investigated the possibility of scraping job postings by exploiting the page number url parameter to iterate over search result pages, scrape posting results from each result listing, then scrape each result url. However, after experimentation we discovered that the site only surfaces one hundred pages of search results with twenty postings per page.\n",
    "\n",
    "Finally, we determined that a by initiating a scraping process on the post listed first in the careerjet search results and using Selenium to advance to the next search result, we were able to access up to ten thousand job postings in a scraping session."
   ]
  },
  {
   "cell_type": "markdown",
   "id": "fatal-michael",
   "metadata": {},
   "source": [
    "### Data Mining Goals"
   ]
  },
  {
   "cell_type": "markdown",
   "id": "brown-rating",
   "metadata": {},
   "source": [
    "The goal of our data mining process was to obtain a reasonably large corpus of job postings consisting of a job title and a job description within the data job sector. "
   ]
  },
  {
   "cell_type": "markdown",
   "id": "economic-genesis",
   "metadata": {},
   "source": [
    "### Project Plan"
   ]
  },
  {
   "cell_type": "markdown",
   "id": "moral-curve",
   "metadata": {},
   "source": [
    "#### Data Collection"
   ]
  },
  {
   "cell_type": "markdown",
   "id": "ancient-county",
   "metadata": {},
   "source": [
    " 1. Initiate a search for jobs postings located in the United States containing the keyword `data`. \n",
    " 2. Traverse and scrape job postings using the Selenium webdriver.\n",
    " 3. Store scraped posts in a SQLite database for further analysis. "
   ]
  },
  {
   "cell_type": "markdown",
   "id": "quick-calibration",
   "metadata": {},
   "source": [
    "#### Data Cleaning"
   ]
  },
  {
   "cell_type": "markdown",
   "id": "interesting-florist",
   "metadata": {},
   "source": [
    "The work-flow below applies to both job descriptions and job titles. This process seeks to distill the raw text to a list of unique and independent tokens of information.\n",
    " \n",
    " 1. Lowercase and remove newline characters.\n",
    " 2. Tokenize documents into sentences.\n",
    " 3. Tokenize sentences into words.\n",
    " 4. Tag words with parts-of-speech tags.\n",
    " 5. Lemmatize words based on parts-of-speech tags.\n",
    " 6. Remove stopwords and special characters.\n",
    " 7. Group common bigrams and trigrams."
   ]
  },
  {
   "cell_type": "markdown",
   "id": "aquatic-working",
   "metadata": {},
   "source": [
    "#### Modeling "
   ]
  },
  {
   "cell_type": "markdown",
   "id": "synthetic-participation",
   "metadata": {},
   "source": [
    "Essentially we wish to model two activities related to searching for a job. First, reading full job descriptions to determine the relevant skills and requirements, thereby classifying the job. Second, skimming over job titles to classify jobs. \n",
    "\n",
    "The goal of a job listing should be to efficiently communicate the requirements of the job so that employers and job seekers can easily match. Job titles are essentially a summary of the full job description which should allow a job seeker to quickly reject postings that are not relevant for further review. When the job title is not predictive of the requirements of the job, a job seeker must review full job descriptions to correctly reject job postings or accept a high false negative rate for title skimming. Either approach leads to reduced efficiency in the job seeking process. \n",
    "\n",
    "Our first model will produce a data supported summary of a job description, which should be as easy to parse as a job title, but more predictive of the job description.\n",
    "\n",
    "Our second model will try to simulate the process of classifying a job by reading the job title alone. From this model, we wish to estimate the false negative rate for this method of rejecting a job posting for further review. "
   ]
  },
  {
   "cell_type": "markdown",
   "id": "legendary-cedar",
   "metadata": {},
   "source": [
    "##### Unsupervised Learning on Job Descriptions"
   ]
  },
  {
   "cell_type": "markdown",
   "id": "shaped-explosion",
   "metadata": {},
   "source": [
    "Having distilled job descriptions to token lists we wish to derive meaningful representations of the job descriptions, which lend themselves to succinct classification of jobs. To this end we propose the following work-flow.\n",
    " \n",
    " 1. Convert token lists to bag-of-words representation.\n",
    " 2. Train a Latent Dirichlet Allocation model on the bag-of-words representations to extract a latent topics representation of the job descriptions. \n",
    " 3. Train a $k$-Means clustering model on the latent topics representations to identify clusters of similar job descriptions.\n",
    " \n",
    " The labeling of job descriptions with their corresponding cluster label provides our first deliverable.\n",
    " \n",
    " Having trained both LDA and $k$-Means models on the collected data, we can feed an unseen job description through our model pipeline and assign a cluster label. This provides our second deliverable."
   ]
  },
  {
   "cell_type": "markdown",
   "id": "amateur-monte",
   "metadata": {},
   "source": [
    "##### Supervised Learning on Job Titles."
   ]
  },
  {
   "cell_type": "markdown",
   "id": "cosmetic-comparison",
   "metadata": {},
   "source": [
    "Having classified jobs to the best of our abilities using the full job description, we now wish to determine how effectively we are able to predict the cluster label of the job using only the job title. We propose the following work-flow.\n",
    "\n",
    " 1. Convert job title token lists to token count vectors.\n",
    " 2. Train a Multinomial Naive Bayes' taking job title token count vectors as inputs to predict job cluster labels. This simulates a job seeker classifying a job based on the occurrence of key words or phrases in the job title. \n",
    " "
   ]
  },
  {
   "cell_type": "markdown",
   "id": "searching-papua",
   "metadata": {},
   "source": [
    "### Evaluation"
   ]
  },
  {
   "cell_type": "markdown",
   "id": "hollow-thailand",
   "metadata": {},
   "source": [
    "### Deployment\n"
   ]
  },
  {
   "cell_type": "markdown",
   "id": "falling-wright",
   "metadata": {},
   "source": [
    "We will provide a publicly available interface, which will allow the end user to classify raw job description text."
   ]
  }
 ],
 "metadata": {
  "kernelspec": {
   "display_name": "Python 3",
   "language": "python",
   "name": "python3"
  },
  "language_info": {
   "codemirror_mode": {
    "name": "ipython",
    "version": 3
   },
   "file_extension": ".py",
   "mimetype": "text/x-python",
   "name": "python",
   "nbconvert_exporter": "python",
   "pygments_lexer": "ipython3",
   "version": "3.8.6"
  }
 },
 "nbformat": 4,
 "nbformat_minor": 5
}
